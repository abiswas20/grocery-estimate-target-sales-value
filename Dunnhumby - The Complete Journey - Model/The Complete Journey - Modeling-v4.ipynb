{
 "cells": [
  {
   "cell_type": "code",
   "execution_count": 2,
   "metadata": {},
   "outputs": [],
   "source": [
    "import sys\n",
    "import pandas as pd\n",
    "import numpy as np\n",
    "import matplotlib.pyplot as plt\n",
    "import seaborn as sns\n",
    "from sklearn.model_selection import train_test_split, cross_val_score\n",
    "from sklearn.preprocessing import PolynomialFeatures, LabelEncoder\n",
    "from sklearn.preprocessing import StandardScaler\n",
    "from sklearn.linear_model import Lasso, Ridge\n",
    "import joblib\n",
    "from joblib import dump"
   ]
  },
  {
   "cell_type": "code",
   "execution_count": 3,
   "metadata": {},
   "outputs": [],
   "source": [
    "df_data=pd.read_csv(\"./data/all_tables_combined.csv\")"
   ]
  },
  {
   "cell_type": "code",
   "execution_count": 4,
   "metadata": {},
   "outputs": [
    {
     "name": "stderr",
     "output_type": "stream",
     "text": [
      "/home/user-1711/venv/lib/python3.8/site-packages/pandas/core/frame.py:4167: SettingWithCopyWarning: \n",
      "A value is trying to be set on a copy of a slice from a DataFrame\n",
      "\n",
      "See the caveats in the documentation: https://pandas.pydata.org/pandas-docs/stable/user_guide/indexing.html#returning-a-view-versus-a-copy\n",
      "  return super().drop(\n",
      "<ipython-input-4-8c9cfaafd1e9>:35: SettingWithCopyWarning: \n",
      "A value is trying to be set on a copy of a slice from a DataFrame.\n",
      "Try using .loc[row_indexer,col_indexer] = value instead\n",
      "\n",
      "See the caveats in the documentation: https://pandas.pydata.org/pandas-docs/stable/user_guide/indexing.html#returning-a-view-versus-a-copy\n",
      "  df_s_parent['VOLUME']=vect_label_to_volume(df_s_parent['CURR_SIZE_OF_PRODUCT'])\n",
      "/home/user-1711/venv/lib/python3.8/site-packages/sklearn/linear_model/_coordinate_descent.py:529: ConvergenceWarning: Objective did not converge. You might want to increase the number of iterations. Duality gap: 235.62774296126327, tolerance: 1.0342345648956575\n",
      "  model = cd_fast.enet_coordinate_descent(\n"
     ]
    },
    {
     "data": {
      "text/plain": [
       "['sales_value_ridge_model.joblib']"
      ]
     },
     "execution_count": 4,
     "metadata": {},
     "output_type": "execute_result"
    }
   ],
   "source": [
    "df_s_parent=df_data\n",
    "\n",
    "#length of campaign. one of the parameters that can possibly used as a feature.\n",
    "df_s_parent['NUM_DAYS']=df_s_parent['END_DAY'] - df_s_parent['START_DAY'] + 1\n",
    "\n",
    "#dropping a few extra columns\n",
    "df_s_parent.drop(['START_DAY','END_DAY','COUPON_UPC','household_key','PRODUCT_ID'], axis=1, inplace=True)\n",
    "\n",
    "#selecting rows where the product is some type of liquid milk\n",
    "df_s_parent[df_s_parent['SUB_COMMODITY_DESC'].str.contains('MILK')]['SUB_COMMODITY_DESC'].unique()\n",
    "df_s_parent=df_s_parent[(df_s_parent['SUB_COMMODITY_DESC']=='FLUID MILK WHITE ONLY') | (df_s_parent['SUB_COMMODITY_DESC']=='MISCELLANEOUS MILK') | (df_s_parent['SUB_COMMODITY_DESC']=='CHOCOLATE MILK')]\n",
    "\n",
    "#dropping more extra columns\n",
    "df_s_parent.drop(['TRANS_TIME','AGE_DESC', 'MARITAL_STATUS_CODE', 'INCOME_DESC', 'HOMEOWNER_DESC', 'HH_COMP_DESC', 'HOUSEHOLD_SIZE_DESC','KID_CATEGORY_DESC', 'DEPARTMENT', 'COMMODITY_DESC'], axis=1, inplace=True)\n",
    "\n",
    "#function to encode container size\n",
    "def label_to_volume(label):\n",
    "    volume=int()\n",
    "    if label=='1 GA':\n",
    "        volume=128\n",
    "    elif label=='1 PT':\n",
    "        volume=16\n",
    "    elif label=='16 OZ':\n",
    "        volume=16\n",
    "    elif label=='1 QT':\n",
    "        volume=32\n",
    "    elif label=='PT':\n",
    "        volume=16\n",
    "        \n",
    "    return volume\n",
    "\n",
    "#we need to vectorize function to use it with pandas dataframe efficiently.\n",
    "vect_label_to_volume=np.vectorize(label_to_volume)\n",
    "\n",
    "df_s_parent['VOLUME']=vect_label_to_volume(df_s_parent['CURR_SIZE_OF_PRODUCT'])\n",
    "\n",
    "df_s_parent=df_s_parent[df_s_parent['SALES_VALUE']<=10]\n",
    "\n",
    "sales=df_s_parent['SALES_VALUE']\n",
    "\n",
    "df_s_parent_features=df_s_parent.drop('SALES_VALUE', axis=1)\n",
    "\n",
    "dummy=pd.get_dummies(df_s_parent_features['BRAND'],drop_first=True)\n",
    "dummy_milk_type=pd.get_dummies(df_s_parent_features['SUB_COMMODITY_DESC'],drop_first=True)\n",
    "dummy_manufacturer=pd.get_dummies(df_s_parent_features['MANUFACTURER'],drop_first=True)\n",
    "df_s_parent_features=pd.concat([df_s_parent_features,dummy], axis=1)\n",
    "df_s_parent_features=pd.concat([df_s_parent_features,dummy_milk_type], axis=1)\n",
    "df_s_parent_features=pd.concat([df_s_parent_features,dummy_manufacturer], axis=1)\n",
    "\n",
    "#removing original columns that have been dummified.\n",
    "df_s_parent_features.drop(['STORE_ID','QUANTITY','BRAND','description','MANUFACTURER','CURR_SIZE_OF_PRODUCT','SUB_COMMODITY_DESC', 'CAMPAIGN', 'NUM_DAYS'], axis=1, inplace=True)\n",
    "\n",
    "#define X and y\n",
    "X=df_s_parent_features\n",
    "y=sales\n",
    "\n",
    "#test train split\n",
    "X_train,X_test,y_train,y_test=train_test_split(X, y, random_state = 22)\n",
    "\n",
    "#initiate instance of StandardScaler\n",
    "sscaler=StandardScaler()\n",
    "\n",
    "#fit and transform X_train\n",
    "X_train_scaled=sscaler.fit_transform(X_train)\n",
    "\n",
    "#Using fit from train to scale test\n",
    "X_test_scaled=sscaler.transform(X_test)\n",
    "\n",
    "#initiating and fitting lasso\n",
    "lasso=Lasso(alpha=0.00001)\n",
    "lasso.fit(X_train_scaled,y_train)\n",
    "\n",
    "#create dataframe with coffecients for all features used in modeling\n",
    "pd.DataFrame({'features':X.columns, 'coefs':lasso.coef_}).sort_values(by='coefs', ascending=False)\n",
    "\n",
    "#initiating and fitting Ridge\n",
    "ridge=Ridge()\n",
    "ridge.fit(X_train_scaled,y_train)\n",
    "\n",
    "#create models for \n",
    "dump(lasso, 'sales_value_lasso_model.joblib')\n",
    "dump(ridge, 'sales_value_ridge_model.joblib')"
   ]
  },
  {
   "cell_type": "code",
   "execution_count": null,
   "metadata": {},
   "outputs": [],
   "source": []
  }
 ],
 "metadata": {
  "kernelspec": {
   "display_name": "Python 3",
   "language": "python",
   "name": "python3"
  },
  "language_info": {
   "codemirror_mode": {
    "name": "ipython",
    "version": 3
   },
   "file_extension": ".py",
   "mimetype": "text/x-python",
   "name": "python",
   "nbconvert_exporter": "python",
   "pygments_lexer": "ipython3",
   "version": "3.8.5"
  }
 },
 "nbformat": 4,
 "nbformat_minor": 4
}
