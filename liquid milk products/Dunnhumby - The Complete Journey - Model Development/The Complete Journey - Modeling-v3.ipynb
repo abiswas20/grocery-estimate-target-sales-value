{
 "cells": [
  {
   "cell_type": "code",
   "execution_count": 445,
   "metadata": {},
   "outputs": [],
   "source": [
    "import sys\n",
    "import pandas as pd\n",
    "import numpy as np\n",
    "import matplotlib.pyplot as plt\n",
    "import seaborn as sns\n",
    "from sklearn.model_selection import train_test_split, cross_val_score\n",
    "from sklearn.preprocessing import PolynomialFeatures, LabelEncoder\n",
    "from sklearn.preprocessing import StandardScaler\n",
    "from sklearn.linear_model import Lasso, Ridge\n",
    "import joblib\n",
    "from joblib import dump"
   ]
  },
  {
   "cell_type": "code",
   "execution_count": 446,
   "metadata": {},
   "outputs": [],
   "source": [
    "df_data=pd.read_csv(\"./data/all_tables_combined.csv\")"
   ]
  },
  {
   "cell_type": "code",
   "execution_count": 447,
   "metadata": {},
   "outputs": [
    {
     "data": {
      "text/html": [
       "<div>\n",
       "<style scoped>\n",
       "    .dataframe tbody tr th:only-of-type {\n",
       "        vertical-align: middle;\n",
       "    }\n",
       "\n",
       "    .dataframe tbody tr th {\n",
       "        vertical-align: top;\n",
       "    }\n",
       "\n",
       "    .dataframe thead th {\n",
       "        text-align: right;\n",
       "    }\n",
       "</style>\n",
       "<table border=\"1\" class=\"dataframe\">\n",
       "  <thead>\n",
       "    <tr style=\"text-align: right;\">\n",
       "      <th></th>\n",
       "      <th>household_key</th>\n",
       "      <th>PRODUCT_ID</th>\n",
       "      <th>QUANTITY</th>\n",
       "      <th>SALES_VALUE</th>\n",
       "      <th>STORE_ID</th>\n",
       "      <th>RETAIL_DISC</th>\n",
       "      <th>TRANS_TIME</th>\n",
       "      <th>COUPON_DISC</th>\n",
       "      <th>COUPON_MATCH_DISC</th>\n",
       "      <th>description</th>\n",
       "      <th>...</th>\n",
       "      <th>HOMEOWNER_DESC</th>\n",
       "      <th>HH_COMP_DESC</th>\n",
       "      <th>HOUSEHOLD_SIZE_DESC</th>\n",
       "      <th>KID_CATEGORY_DESC</th>\n",
       "      <th>MANUFACTURER</th>\n",
       "      <th>DEPARTMENT</th>\n",
       "      <th>BRAND</th>\n",
       "      <th>COMMODITY_DESC</th>\n",
       "      <th>SUB_COMMODITY_DESC</th>\n",
       "      <th>CURR_SIZE_OF_PRODUCT</th>\n",
       "    </tr>\n",
       "  </thead>\n",
       "  <tbody>\n",
       "    <tr>\n",
       "      <th>0</th>\n",
       "      <td>2305</td>\n",
       "      <td>873203</td>\n",
       "      <td>1</td>\n",
       "      <td>1.67</td>\n",
       "      <td>414</td>\n",
       "      <td>-1.02</td>\n",
       "      <td>1300</td>\n",
       "      <td>0.0</td>\n",
       "      <td>0.0</td>\n",
       "      <td>TypeA</td>\n",
       "      <td>...</td>\n",
       "      <td>Homeowner</td>\n",
       "      <td>Single Female</td>\n",
       "      <td>1</td>\n",
       "      <td>None/Unknown</td>\n",
       "      <td>69</td>\n",
       "      <td>GROCERY</td>\n",
       "      <td>Private</td>\n",
       "      <td>CHEESE</td>\n",
       "      <td>SHREDDED CHEESE</td>\n",
       "      <td>8 OZ</td>\n",
       "    </tr>\n",
       "    <tr>\n",
       "      <th>1</th>\n",
       "      <td>2305</td>\n",
       "      <td>873203</td>\n",
       "      <td>1</td>\n",
       "      <td>1.79</td>\n",
       "      <td>414</td>\n",
       "      <td>-0.90</td>\n",
       "      <td>1220</td>\n",
       "      <td>0.0</td>\n",
       "      <td>0.0</td>\n",
       "      <td>TypeA</td>\n",
       "      <td>...</td>\n",
       "      <td>Homeowner</td>\n",
       "      <td>Single Female</td>\n",
       "      <td>1</td>\n",
       "      <td>None/Unknown</td>\n",
       "      <td>69</td>\n",
       "      <td>GROCERY</td>\n",
       "      <td>Private</td>\n",
       "      <td>CHEESE</td>\n",
       "      <td>SHREDDED CHEESE</td>\n",
       "      <td>8 OZ</td>\n",
       "    </tr>\n",
       "    <tr>\n",
       "      <th>2</th>\n",
       "      <td>2305</td>\n",
       "      <td>873203</td>\n",
       "      <td>1</td>\n",
       "      <td>1.89</td>\n",
       "      <td>414</td>\n",
       "      <td>0.00</td>\n",
       "      <td>1111</td>\n",
       "      <td>0.0</td>\n",
       "      <td>0.0</td>\n",
       "      <td>TypeA</td>\n",
       "      <td>...</td>\n",
       "      <td>Homeowner</td>\n",
       "      <td>Single Female</td>\n",
       "      <td>1</td>\n",
       "      <td>None/Unknown</td>\n",
       "      <td>69</td>\n",
       "      <td>GROCERY</td>\n",
       "      <td>Private</td>\n",
       "      <td>CHEESE</td>\n",
       "      <td>SHREDDED CHEESE</td>\n",
       "      <td>8 OZ</td>\n",
       "    </tr>\n",
       "  </tbody>\n",
       "</table>\n",
       "<p>3 rows × 28 columns</p>\n",
       "</div>"
      ],
      "text/plain": [
       "   household_key  PRODUCT_ID  QUANTITY  SALES_VALUE  STORE_ID  RETAIL_DISC  \\\n",
       "0           2305      873203         1         1.67       414        -1.02   \n",
       "1           2305      873203         1         1.79       414        -0.90   \n",
       "2           2305      873203         1         1.89       414         0.00   \n",
       "\n",
       "   TRANS_TIME  COUPON_DISC  COUPON_MATCH_DISC description  ...  \\\n",
       "0        1300          0.0                0.0       TypeA  ...   \n",
       "1        1220          0.0                0.0       TypeA  ...   \n",
       "2        1111          0.0                0.0       TypeA  ...   \n",
       "\n",
       "   HOMEOWNER_DESC   HH_COMP_DESC  HOUSEHOLD_SIZE_DESC  KID_CATEGORY_DESC  \\\n",
       "0       Homeowner  Single Female                    1       None/Unknown   \n",
       "1       Homeowner  Single Female                    1       None/Unknown   \n",
       "2       Homeowner  Single Female                    1       None/Unknown   \n",
       "\n",
       "   MANUFACTURER DEPARTMENT    BRAND COMMODITY_DESC SUB_COMMODITY_DESC  \\\n",
       "0            69    GROCERY  Private         CHEESE    SHREDDED CHEESE   \n",
       "1            69    GROCERY  Private         CHEESE    SHREDDED CHEESE   \n",
       "2            69    GROCERY  Private         CHEESE    SHREDDED CHEESE   \n",
       "\n",
       "  CURR_SIZE_OF_PRODUCT  \n",
       "0                 8 OZ  \n",
       "1                 8 OZ  \n",
       "2                 8 OZ  \n",
       "\n",
       "[3 rows x 28 columns]"
      ]
     },
     "execution_count": 447,
     "metadata": {},
     "output_type": "execute_result"
    }
   ],
   "source": [
    "df_data.head(3)"
   ]
  },
  {
   "cell_type": "code",
   "execution_count": 448,
   "metadata": {},
   "outputs": [],
   "source": [
    "#df_s_parent=df_data[df_data['HH_COMP_DESC']==\"1 Adult Kids\"]\n",
    "df_s_parent=df_data"
   ]
  },
  {
   "cell_type": "code",
   "execution_count": 449,
   "metadata": {},
   "outputs": [],
   "source": [
    "df_s_parent['NUM_DAYS']=df_s_parent['END_DAY'] - df_s_parent['START_DAY'] + 1\n",
    "df_s_parent.drop(['START_DAY','END_DAY','COUPON_UPC','household_key','PRODUCT_ID'], axis=1, inplace=True)"
   ]
  },
  {
   "cell_type": "code",
   "execution_count": 450,
   "metadata": {},
   "outputs": [
    {
     "data": {
      "text/html": [
       "<div>\n",
       "<style scoped>\n",
       "    .dataframe tbody tr th:only-of-type {\n",
       "        vertical-align: middle;\n",
       "    }\n",
       "\n",
       "    .dataframe tbody tr th {\n",
       "        vertical-align: top;\n",
       "    }\n",
       "\n",
       "    .dataframe thead th {\n",
       "        text-align: right;\n",
       "    }\n",
       "</style>\n",
       "<table border=\"1\" class=\"dataframe\">\n",
       "  <thead>\n",
       "    <tr style=\"text-align: right;\">\n",
       "      <th></th>\n",
       "      <th>QUANTITY</th>\n",
       "      <th>SALES_VALUE</th>\n",
       "      <th>STORE_ID</th>\n",
       "      <th>RETAIL_DISC</th>\n",
       "      <th>TRANS_TIME</th>\n",
       "      <th>COUPON_DISC</th>\n",
       "      <th>COUPON_MATCH_DISC</th>\n",
       "      <th>description</th>\n",
       "      <th>CAMPAIGN</th>\n",
       "      <th>DAY</th>\n",
       "      <th>...</th>\n",
       "      <th>HH_COMP_DESC</th>\n",
       "      <th>HOUSEHOLD_SIZE_DESC</th>\n",
       "      <th>KID_CATEGORY_DESC</th>\n",
       "      <th>MANUFACTURER</th>\n",
       "      <th>DEPARTMENT</th>\n",
       "      <th>BRAND</th>\n",
       "      <th>COMMODITY_DESC</th>\n",
       "      <th>SUB_COMMODITY_DESC</th>\n",
       "      <th>CURR_SIZE_OF_PRODUCT</th>\n",
       "      <th>NUM_DAYS</th>\n",
       "    </tr>\n",
       "  </thead>\n",
       "  <tbody>\n",
       "    <tr>\n",
       "      <th>0</th>\n",
       "      <td>1</td>\n",
       "      <td>1.67</td>\n",
       "      <td>414</td>\n",
       "      <td>-1.02</td>\n",
       "      <td>1300</td>\n",
       "      <td>0.0</td>\n",
       "      <td>0.0</td>\n",
       "      <td>TypeA</td>\n",
       "      <td>13</td>\n",
       "      <td>510</td>\n",
       "      <td>...</td>\n",
       "      <td>Single Female</td>\n",
       "      <td>1</td>\n",
       "      <td>None/Unknown</td>\n",
       "      <td>69</td>\n",
       "      <td>GROCERY</td>\n",
       "      <td>Private</td>\n",
       "      <td>CHEESE</td>\n",
       "      <td>SHREDDED CHEESE</td>\n",
       "      <td>8 OZ</td>\n",
       "      <td>48</td>\n",
       "    </tr>\n",
       "    <tr>\n",
       "      <th>1</th>\n",
       "      <td>1</td>\n",
       "      <td>1.79</td>\n",
       "      <td>414</td>\n",
       "      <td>-0.90</td>\n",
       "      <td>1220</td>\n",
       "      <td>0.0</td>\n",
       "      <td>0.0</td>\n",
       "      <td>TypeA</td>\n",
       "      <td>13</td>\n",
       "      <td>510</td>\n",
       "      <td>...</td>\n",
       "      <td>Single Female</td>\n",
       "      <td>1</td>\n",
       "      <td>None/Unknown</td>\n",
       "      <td>69</td>\n",
       "      <td>GROCERY</td>\n",
       "      <td>Private</td>\n",
       "      <td>CHEESE</td>\n",
       "      <td>SHREDDED CHEESE</td>\n",
       "      <td>8 OZ</td>\n",
       "      <td>48</td>\n",
       "    </tr>\n",
       "  </tbody>\n",
       "</table>\n",
       "<p>2 rows × 24 columns</p>\n",
       "</div>"
      ],
      "text/plain": [
       "   QUANTITY  SALES_VALUE  STORE_ID  RETAIL_DISC  TRANS_TIME  COUPON_DISC  \\\n",
       "0         1         1.67       414        -1.02        1300          0.0   \n",
       "1         1         1.79       414        -0.90        1220          0.0   \n",
       "\n",
       "   COUPON_MATCH_DISC description  CAMPAIGN  DAY  ...   HH_COMP_DESC  \\\n",
       "0                0.0       TypeA        13  510  ...  Single Female   \n",
       "1                0.0       TypeA        13  510  ...  Single Female   \n",
       "\n",
       "  HOUSEHOLD_SIZE_DESC KID_CATEGORY_DESC MANUFACTURER DEPARTMENT    BRAND  \\\n",
       "0                   1      None/Unknown           69    GROCERY  Private   \n",
       "1                   1      None/Unknown           69    GROCERY  Private   \n",
       "\n",
       "  COMMODITY_DESC  SUB_COMMODITY_DESC CURR_SIZE_OF_PRODUCT NUM_DAYS  \n",
       "0         CHEESE     SHREDDED CHEESE                 8 OZ       48  \n",
       "1         CHEESE     SHREDDED CHEESE                 8 OZ       48  \n",
       "\n",
       "[2 rows x 24 columns]"
      ]
     },
     "execution_count": 450,
     "metadata": {},
     "output_type": "execute_result"
    }
   ],
   "source": [
    "df_s_parent.head(2)"
   ]
  },
  {
   "cell_type": "code",
   "execution_count": 451,
   "metadata": {},
   "outputs": [],
   "source": [
    "#sns.pairplot(df_s_parent)"
   ]
  },
  {
   "cell_type": "code",
   "execution_count": 452,
   "metadata": {},
   "outputs": [
    {
     "data": {
      "text/html": [
       "<div>\n",
       "<style scoped>\n",
       "    .dataframe tbody tr th:only-of-type {\n",
       "        vertical-align: middle;\n",
       "    }\n",
       "\n",
       "    .dataframe tbody tr th {\n",
       "        vertical-align: top;\n",
       "    }\n",
       "\n",
       "    .dataframe thead th {\n",
       "        text-align: right;\n",
       "    }\n",
       "</style>\n",
       "<table border=\"1\" class=\"dataframe\">\n",
       "  <thead>\n",
       "    <tr style=\"text-align: right;\">\n",
       "      <th></th>\n",
       "      <th>QUANTITY</th>\n",
       "      <th>SALES_VALUE</th>\n",
       "      <th>STORE_ID</th>\n",
       "      <th>RETAIL_DISC</th>\n",
       "      <th>TRANS_TIME</th>\n",
       "      <th>COUPON_DISC</th>\n",
       "      <th>COUPON_MATCH_DISC</th>\n",
       "      <th>description</th>\n",
       "      <th>CAMPAIGN</th>\n",
       "      <th>DAY</th>\n",
       "      <th>...</th>\n",
       "      <th>HH_COMP_DESC</th>\n",
       "      <th>HOUSEHOLD_SIZE_DESC</th>\n",
       "      <th>KID_CATEGORY_DESC</th>\n",
       "      <th>MANUFACTURER</th>\n",
       "      <th>DEPARTMENT</th>\n",
       "      <th>BRAND</th>\n",
       "      <th>COMMODITY_DESC</th>\n",
       "      <th>SUB_COMMODITY_DESC</th>\n",
       "      <th>CURR_SIZE_OF_PRODUCT</th>\n",
       "      <th>NUM_DAYS</th>\n",
       "    </tr>\n",
       "  </thead>\n",
       "  <tbody>\n",
       "    <tr>\n",
       "      <th>0</th>\n",
       "      <td>1</td>\n",
       "      <td>1.67</td>\n",
       "      <td>414</td>\n",
       "      <td>-1.02</td>\n",
       "      <td>1300</td>\n",
       "      <td>0.0</td>\n",
       "      <td>0.0</td>\n",
       "      <td>TypeA</td>\n",
       "      <td>13</td>\n",
       "      <td>510</td>\n",
       "      <td>...</td>\n",
       "      <td>Single Female</td>\n",
       "      <td>1</td>\n",
       "      <td>None/Unknown</td>\n",
       "      <td>69</td>\n",
       "      <td>GROCERY</td>\n",
       "      <td>Private</td>\n",
       "      <td>CHEESE</td>\n",
       "      <td>SHREDDED CHEESE</td>\n",
       "      <td>8 OZ</td>\n",
       "      <td>48</td>\n",
       "    </tr>\n",
       "    <tr>\n",
       "      <th>1</th>\n",
       "      <td>1</td>\n",
       "      <td>1.79</td>\n",
       "      <td>414</td>\n",
       "      <td>-0.90</td>\n",
       "      <td>1220</td>\n",
       "      <td>0.0</td>\n",
       "      <td>0.0</td>\n",
       "      <td>TypeA</td>\n",
       "      <td>13</td>\n",
       "      <td>510</td>\n",
       "      <td>...</td>\n",
       "      <td>Single Female</td>\n",
       "      <td>1</td>\n",
       "      <td>None/Unknown</td>\n",
       "      <td>69</td>\n",
       "      <td>GROCERY</td>\n",
       "      <td>Private</td>\n",
       "      <td>CHEESE</td>\n",
       "      <td>SHREDDED CHEESE</td>\n",
       "      <td>8 OZ</td>\n",
       "      <td>48</td>\n",
       "    </tr>\n",
       "    <tr>\n",
       "      <th>2</th>\n",
       "      <td>1</td>\n",
       "      <td>1.89</td>\n",
       "      <td>414</td>\n",
       "      <td>0.00</td>\n",
       "      <td>1111</td>\n",
       "      <td>0.0</td>\n",
       "      <td>0.0</td>\n",
       "      <td>TypeA</td>\n",
       "      <td>13</td>\n",
       "      <td>510</td>\n",
       "      <td>...</td>\n",
       "      <td>Single Female</td>\n",
       "      <td>1</td>\n",
       "      <td>None/Unknown</td>\n",
       "      <td>69</td>\n",
       "      <td>GROCERY</td>\n",
       "      <td>Private</td>\n",
       "      <td>CHEESE</td>\n",
       "      <td>SHREDDED CHEESE</td>\n",
       "      <td>8 OZ</td>\n",
       "      <td>48</td>\n",
       "    </tr>\n",
       "    <tr>\n",
       "      <th>3</th>\n",
       "      <td>1</td>\n",
       "      <td>1.67</td>\n",
       "      <td>414</td>\n",
       "      <td>-0.22</td>\n",
       "      <td>1341</td>\n",
       "      <td>0.0</td>\n",
       "      <td>0.0</td>\n",
       "      <td>TypeA</td>\n",
       "      <td>13</td>\n",
       "      <td>510</td>\n",
       "      <td>...</td>\n",
       "      <td>Single Female</td>\n",
       "      <td>1</td>\n",
       "      <td>None/Unknown</td>\n",
       "      <td>69</td>\n",
       "      <td>GROCERY</td>\n",
       "      <td>Private</td>\n",
       "      <td>CHEESE</td>\n",
       "      <td>SHREDDED CHEESE</td>\n",
       "      <td>8 OZ</td>\n",
       "      <td>48</td>\n",
       "    </tr>\n",
       "    <tr>\n",
       "      <th>4</th>\n",
       "      <td>1</td>\n",
       "      <td>1.67</td>\n",
       "      <td>414</td>\n",
       "      <td>-0.22</td>\n",
       "      <td>1243</td>\n",
       "      <td>0.0</td>\n",
       "      <td>0.0</td>\n",
       "      <td>TypeA</td>\n",
       "      <td>13</td>\n",
       "      <td>510</td>\n",
       "      <td>...</td>\n",
       "      <td>Single Female</td>\n",
       "      <td>1</td>\n",
       "      <td>None/Unknown</td>\n",
       "      <td>69</td>\n",
       "      <td>GROCERY</td>\n",
       "      <td>Private</td>\n",
       "      <td>CHEESE</td>\n",
       "      <td>SHREDDED CHEESE</td>\n",
       "      <td>8 OZ</td>\n",
       "      <td>48</td>\n",
       "    </tr>\n",
       "    <tr>\n",
       "      <th>...</th>\n",
       "      <td>...</td>\n",
       "      <td>...</td>\n",
       "      <td>...</td>\n",
       "      <td>...</td>\n",
       "      <td>...</td>\n",
       "      <td>...</td>\n",
       "      <td>...</td>\n",
       "      <td>...</td>\n",
       "      <td>...</td>\n",
       "      <td>...</td>\n",
       "      <td>...</td>\n",
       "      <td>...</td>\n",
       "      <td>...</td>\n",
       "      <td>...</td>\n",
       "      <td>...</td>\n",
       "      <td>...</td>\n",
       "      <td>...</td>\n",
       "      <td>...</td>\n",
       "      <td>...</td>\n",
       "      <td>...</td>\n",
       "      <td>...</td>\n",
       "    </tr>\n",
       "    <tr>\n",
       "      <th>112017</th>\n",
       "      <td>1</td>\n",
       "      <td>2.50</td>\n",
       "      <td>304</td>\n",
       "      <td>-0.19</td>\n",
       "      <td>1456</td>\n",
       "      <td>0.0</td>\n",
       "      <td>0.0</td>\n",
       "      <td>TypeA</td>\n",
       "      <td>18</td>\n",
       "      <td>603</td>\n",
       "      <td>...</td>\n",
       "      <td>1 Adult Kids</td>\n",
       "      <td>4</td>\n",
       "      <td>3+</td>\n",
       "      <td>135</td>\n",
       "      <td>GROCERY</td>\n",
       "      <td>National</td>\n",
       "      <td>FRZN POTATOES</td>\n",
       "      <td>FRZN FRENCH FRIES</td>\n",
       "      <td>26 OZ</td>\n",
       "      <td>56</td>\n",
       "    </tr>\n",
       "    <tr>\n",
       "      <th>112018</th>\n",
       "      <td>2</td>\n",
       "      <td>3.70</td>\n",
       "      <td>402</td>\n",
       "      <td>0.00</td>\n",
       "      <td>1334</td>\n",
       "      <td>0.0</td>\n",
       "      <td>0.0</td>\n",
       "      <td>TypeA</td>\n",
       "      <td>8</td>\n",
       "      <td>438</td>\n",
       "      <td>...</td>\n",
       "      <td>2 Adults No Kids</td>\n",
       "      <td>2</td>\n",
       "      <td>None/Unknown</td>\n",
       "      <td>1251</td>\n",
       "      <td>GROCERY</td>\n",
       "      <td>National</td>\n",
       "      <td>SOUP</td>\n",
       "      <td>RTS SOUP: CHUNKY/HOMESTYLE ET</td>\n",
       "      <td>18.8 OZ</td>\n",
       "      <td>49</td>\n",
       "    </tr>\n",
       "    <tr>\n",
       "      <th>112019</th>\n",
       "      <td>1</td>\n",
       "      <td>5.49</td>\n",
       "      <td>402</td>\n",
       "      <td>0.00</td>\n",
       "      <td>1334</td>\n",
       "      <td>0.0</td>\n",
       "      <td>0.0</td>\n",
       "      <td>TypeA</td>\n",
       "      <td>18</td>\n",
       "      <td>608</td>\n",
       "      <td>...</td>\n",
       "      <td>2 Adults No Kids</td>\n",
       "      <td>2</td>\n",
       "      <td>None/Unknown</td>\n",
       "      <td>26</td>\n",
       "      <td>DRUG GM</td>\n",
       "      <td>National</td>\n",
       "      <td>DIETARY AID PRODUCTS</td>\n",
       "      <td>DIET CNTRL LIQS NUTRITIONAL</td>\n",
       "      <td></td>\n",
       "      <td>56</td>\n",
       "    </tr>\n",
       "    <tr>\n",
       "      <th>112020</th>\n",
       "      <td>1</td>\n",
       "      <td>5.59</td>\n",
       "      <td>402</td>\n",
       "      <td>0.00</td>\n",
       "      <td>1334</td>\n",
       "      <td>0.0</td>\n",
       "      <td>0.0</td>\n",
       "      <td>TypeA</td>\n",
       "      <td>18</td>\n",
       "      <td>608</td>\n",
       "      <td>...</td>\n",
       "      <td>2 Adults No Kids</td>\n",
       "      <td>2</td>\n",
       "      <td>None/Unknown</td>\n",
       "      <td>26</td>\n",
       "      <td>DRUG GM</td>\n",
       "      <td>National</td>\n",
       "      <td>DIETARY AID PRODUCTS</td>\n",
       "      <td>DIET CNTRL LIQS NUTRITIONAL</td>\n",
       "      <td></td>\n",
       "      <td>56</td>\n",
       "    </tr>\n",
       "    <tr>\n",
       "      <th>112021</th>\n",
       "      <td>1</td>\n",
       "      <td>1.50</td>\n",
       "      <td>343</td>\n",
       "      <td>-1.09</td>\n",
       "      <td>1637</td>\n",
       "      <td>0.0</td>\n",
       "      <td>0.0</td>\n",
       "      <td>TypeA</td>\n",
       "      <td>8</td>\n",
       "      <td>415</td>\n",
       "      <td>...</td>\n",
       "      <td>2 Adults Kids</td>\n",
       "      <td>4</td>\n",
       "      <td>2</td>\n",
       "      <td>69</td>\n",
       "      <td>MEAT-PCKGD</td>\n",
       "      <td>Private</td>\n",
       "      <td>HOT DOGS</td>\n",
       "      <td>PREMIUM - MEAT</td>\n",
       "      <td>16 OZ</td>\n",
       "      <td>49</td>\n",
       "    </tr>\n",
       "  </tbody>\n",
       "</table>\n",
       "<p>112022 rows × 24 columns</p>\n",
       "</div>"
      ],
      "text/plain": [
       "        QUANTITY  SALES_VALUE  STORE_ID  RETAIL_DISC  TRANS_TIME  COUPON_DISC  \\\n",
       "0              1         1.67       414        -1.02        1300          0.0   \n",
       "1              1         1.79       414        -0.90        1220          0.0   \n",
       "2              1         1.89       414         0.00        1111          0.0   \n",
       "3              1         1.67       414        -0.22        1341          0.0   \n",
       "4              1         1.67       414        -0.22        1243          0.0   \n",
       "...          ...          ...       ...          ...         ...          ...   \n",
       "112017         1         2.50       304        -0.19        1456          0.0   \n",
       "112018         2         3.70       402         0.00        1334          0.0   \n",
       "112019         1         5.49       402         0.00        1334          0.0   \n",
       "112020         1         5.59       402         0.00        1334          0.0   \n",
       "112021         1         1.50       343        -1.09        1637          0.0   \n",
       "\n",
       "        COUPON_MATCH_DISC description  CAMPAIGN  DAY  ...      HH_COMP_DESC  \\\n",
       "0                     0.0       TypeA        13  510  ...     Single Female   \n",
       "1                     0.0       TypeA        13  510  ...     Single Female   \n",
       "2                     0.0       TypeA        13  510  ...     Single Female   \n",
       "3                     0.0       TypeA        13  510  ...     Single Female   \n",
       "4                     0.0       TypeA        13  510  ...     Single Female   \n",
       "...                   ...         ...       ...  ...  ...               ...   \n",
       "112017                0.0       TypeA        18  603  ...      1 Adult Kids   \n",
       "112018                0.0       TypeA         8  438  ...  2 Adults No Kids   \n",
       "112019                0.0       TypeA        18  608  ...  2 Adults No Kids   \n",
       "112020                0.0       TypeA        18  608  ...  2 Adults No Kids   \n",
       "112021                0.0       TypeA         8  415  ...     2 Adults Kids   \n",
       "\n",
       "       HOUSEHOLD_SIZE_DESC KID_CATEGORY_DESC MANUFACTURER  DEPARTMENT  \\\n",
       "0                        1      None/Unknown           69     GROCERY   \n",
       "1                        1      None/Unknown           69     GROCERY   \n",
       "2                        1      None/Unknown           69     GROCERY   \n",
       "3                        1      None/Unknown           69     GROCERY   \n",
       "4                        1      None/Unknown           69     GROCERY   \n",
       "...                    ...               ...          ...         ...   \n",
       "112017                   4                3+          135     GROCERY   \n",
       "112018                   2      None/Unknown         1251     GROCERY   \n",
       "112019                   2      None/Unknown           26     DRUG GM   \n",
       "112020                   2      None/Unknown           26     DRUG GM   \n",
       "112021                   4                 2           69  MEAT-PCKGD   \n",
       "\n",
       "           BRAND        COMMODITY_DESC             SUB_COMMODITY_DESC  \\\n",
       "0        Private                CHEESE                SHREDDED CHEESE   \n",
       "1        Private                CHEESE                SHREDDED CHEESE   \n",
       "2        Private                CHEESE                SHREDDED CHEESE   \n",
       "3        Private                CHEESE                SHREDDED CHEESE   \n",
       "4        Private                CHEESE                SHREDDED CHEESE   \n",
       "...          ...                   ...                            ...   \n",
       "112017  National         FRZN POTATOES              FRZN FRENCH FRIES   \n",
       "112018  National                  SOUP  RTS SOUP: CHUNKY/HOMESTYLE ET   \n",
       "112019  National  DIETARY AID PRODUCTS    DIET CNTRL LIQS NUTRITIONAL   \n",
       "112020  National  DIETARY AID PRODUCTS    DIET CNTRL LIQS NUTRITIONAL   \n",
       "112021   Private              HOT DOGS                 PREMIUM - MEAT   \n",
       "\n",
       "       CURR_SIZE_OF_PRODUCT NUM_DAYS  \n",
       "0                      8 OZ       48  \n",
       "1                      8 OZ       48  \n",
       "2                      8 OZ       48  \n",
       "3                      8 OZ       48  \n",
       "4                      8 OZ       48  \n",
       "...                     ...      ...  \n",
       "112017                26 OZ       56  \n",
       "112018              18.8 OZ       49  \n",
       "112019                            56  \n",
       "112020                            56  \n",
       "112021                16 OZ       49  \n",
       "\n",
       "[112022 rows x 24 columns]"
      ]
     },
     "execution_count": 452,
     "metadata": {},
     "output_type": "execute_result"
    }
   ],
   "source": [
    "df_s_parent"
   ]
  },
  {
   "cell_type": "code",
   "execution_count": 453,
   "metadata": {},
   "outputs": [
    {
     "data": {
      "text/plain": [
       "TypeA    105537\n",
       "TypeB      5972\n",
       "TypeC       513\n",
       "Name: description, dtype: int64"
      ]
     },
     "execution_count": 453,
     "metadata": {},
     "output_type": "execute_result"
    }
   ],
   "source": [
    "df_s_parent['description'].value_counts()"
   ]
  },
  {
   "cell_type": "code",
   "execution_count": 454,
   "metadata": {},
   "outputs": [
    {
     "data": {
      "text/plain": [
       "YOGURT NOT MULTI-PACKS            4618\n",
       "FLUID MILK WHITE ONLY             4314\n",
       "BANANAS                           3274\n",
       "FRZN SS PREMIUM ENTREES/DNRS/N    2309\n",
       "DAIRY CASE 100% PURE JUICE - O    2063\n",
       "PREMIUM                           1897\n",
       "PRIMAL                            1636\n",
       "SHREDDED CHEESE                   1352\n",
       "REFRIGERATED COFFEE CREAMERS      1305\n",
       "FRZN BAGGED VEGETABLES - PLAIN    1284\n",
       "Name: SUB_COMMODITY_DESC, dtype: int64"
      ]
     },
     "execution_count": 454,
     "metadata": {},
     "output_type": "execute_result"
    }
   ],
   "source": [
    "df_s_parent['SUB_COMMODITY_DESC'].value_counts().head(10)"
   ]
  },
  {
   "cell_type": "code",
   "execution_count": 455,
   "metadata": {},
   "outputs": [
    {
     "data": {
      "text/plain": [
       "array(['FLUID MILK WHITE ONLY', 'INFANT FORMULA MILK BASE', 'BUTTERMILK',\n",
       "       'CHOCOLATE MILK', 'MISCELLANEOUS MILK', 'FLUID MILK',\n",
       "       'SOY/RICE MILK'], dtype=object)"
      ]
     },
     "execution_count": 455,
     "metadata": {},
     "output_type": "execute_result"
    }
   ],
   "source": [
    "df_s_parent[df_s_parent['SUB_COMMODITY_DESC'].str.contains('MILK')]['SUB_COMMODITY_DESC'].unique()"
   ]
  },
  {
   "cell_type": "code",
   "execution_count": 456,
   "metadata": {},
   "outputs": [],
   "source": [
    "df_s_parent=df_s_parent[(df_s_parent['SUB_COMMODITY_DESC']=='FLUID MILK WHITE ONLY') | (df_s_parent['SUB_COMMODITY_DESC']=='MISCELLANEOUS MILK') | (df_s_parent['SUB_COMMODITY_DESC']=='CHOCOLATE MILK')]"
   ]
  },
  {
   "cell_type": "code",
   "execution_count": 457,
   "metadata": {},
   "outputs": [
    {
     "data": {
      "text/plain": [
       "array(['QUANTITY', 'SALES_VALUE', 'STORE_ID', 'RETAIL_DISC', 'TRANS_TIME',\n",
       "       'COUPON_DISC', 'COUPON_MATCH_DISC', 'description', 'CAMPAIGN',\n",
       "       'DAY', 'AGE_DESC', 'MARITAL_STATUS_CODE', 'INCOME_DESC',\n",
       "       'HOMEOWNER_DESC', 'HH_COMP_DESC', 'HOUSEHOLD_SIZE_DESC',\n",
       "       'KID_CATEGORY_DESC', 'MANUFACTURER', 'DEPARTMENT', 'BRAND',\n",
       "       'COMMODITY_DESC', 'SUB_COMMODITY_DESC', 'CURR_SIZE_OF_PRODUCT',\n",
       "       'NUM_DAYS'], dtype=object)"
      ]
     },
     "execution_count": 457,
     "metadata": {},
     "output_type": "execute_result"
    }
   ],
   "source": [
    "df_s_parent.columns.values"
   ]
  },
  {
   "cell_type": "code",
   "execution_count": 458,
   "metadata": {},
   "outputs": [
    {
     "name": "stderr",
     "output_type": "stream",
     "text": [
      "/home/user-1711/venv/lib/python3.8/site-packages/pandas/core/frame.py:4167: SettingWithCopyWarning: \n",
      "A value is trying to be set on a copy of a slice from a DataFrame\n",
      "\n",
      "See the caveats in the documentation: https://pandas.pydata.org/pandas-docs/stable/user_guide/indexing.html#returning-a-view-versus-a-copy\n",
      "  return super().drop(\n"
     ]
    }
   ],
   "source": [
    "df_s_parent.drop(['TRANS_TIME','AGE_DESC', 'MARITAL_STATUS_CODE', 'INCOME_DESC', 'HOMEOWNER_DESC', 'HH_COMP_DESC', 'HOUSEHOLD_SIZE_DESC','KID_CATEGORY_DESC', 'DEPARTMENT', 'COMMODITY_DESC'], axis=1, inplace=True)"
   ]
  },
  {
   "cell_type": "code",
   "execution_count": 459,
   "metadata": {},
   "outputs": [
    {
     "data": {
      "text/html": [
       "<div>\n",
       "<style scoped>\n",
       "    .dataframe tbody tr th:only-of-type {\n",
       "        vertical-align: middle;\n",
       "    }\n",
       "\n",
       "    .dataframe tbody tr th {\n",
       "        vertical-align: top;\n",
       "    }\n",
       "\n",
       "    .dataframe thead th {\n",
       "        text-align: right;\n",
       "    }\n",
       "</style>\n",
       "<table border=\"1\" class=\"dataframe\">\n",
       "  <thead>\n",
       "    <tr style=\"text-align: right;\">\n",
       "      <th></th>\n",
       "      <th>QUANTITY</th>\n",
       "      <th>SALES_VALUE</th>\n",
       "      <th>STORE_ID</th>\n",
       "      <th>RETAIL_DISC</th>\n",
       "      <th>COUPON_DISC</th>\n",
       "      <th>COUPON_MATCH_DISC</th>\n",
       "      <th>description</th>\n",
       "      <th>CAMPAIGN</th>\n",
       "      <th>DAY</th>\n",
       "      <th>MANUFACTURER</th>\n",
       "      <th>BRAND</th>\n",
       "      <th>SUB_COMMODITY_DESC</th>\n",
       "      <th>CURR_SIZE_OF_PRODUCT</th>\n",
       "      <th>NUM_DAYS</th>\n",
       "    </tr>\n",
       "  </thead>\n",
       "  <tbody>\n",
       "    <tr>\n",
       "      <th>72</th>\n",
       "      <td>1</td>\n",
       "      <td>2.49</td>\n",
       "      <td>414</td>\n",
       "      <td>0.00</td>\n",
       "      <td>0.0</td>\n",
       "      <td>0.0</td>\n",
       "      <td>TypeA</td>\n",
       "      <td>13</td>\n",
       "      <td>510</td>\n",
       "      <td>69</td>\n",
       "      <td>Private</td>\n",
       "      <td>FLUID MILK WHITE ONLY</td>\n",
       "      <td>1 GA</td>\n",
       "      <td>48</td>\n",
       "    </tr>\n",
       "    <tr>\n",
       "      <th>73</th>\n",
       "      <td>1</td>\n",
       "      <td>2.49</td>\n",
       "      <td>414</td>\n",
       "      <td>0.00</td>\n",
       "      <td>0.0</td>\n",
       "      <td>0.0</td>\n",
       "      <td>TypeA</td>\n",
       "      <td>13</td>\n",
       "      <td>510</td>\n",
       "      <td>69</td>\n",
       "      <td>Private</td>\n",
       "      <td>FLUID MILK WHITE ONLY</td>\n",
       "      <td>1 GA</td>\n",
       "      <td>48</td>\n",
       "    </tr>\n",
       "    <tr>\n",
       "      <th>74</th>\n",
       "      <td>1</td>\n",
       "      <td>2.49</td>\n",
       "      <td>414</td>\n",
       "      <td>0.00</td>\n",
       "      <td>0.0</td>\n",
       "      <td>0.0</td>\n",
       "      <td>TypeA</td>\n",
       "      <td>13</td>\n",
       "      <td>510</td>\n",
       "      <td>69</td>\n",
       "      <td>Private</td>\n",
       "      <td>FLUID MILK WHITE ONLY</td>\n",
       "      <td>1 GA</td>\n",
       "      <td>48</td>\n",
       "    </tr>\n",
       "    <tr>\n",
       "      <th>75</th>\n",
       "      <td>1</td>\n",
       "      <td>2.49</td>\n",
       "      <td>414</td>\n",
       "      <td>0.00</td>\n",
       "      <td>0.0</td>\n",
       "      <td>0.0</td>\n",
       "      <td>TypeA</td>\n",
       "      <td>13</td>\n",
       "      <td>510</td>\n",
       "      <td>69</td>\n",
       "      <td>Private</td>\n",
       "      <td>FLUID MILK WHITE ONLY</td>\n",
       "      <td>1 GA</td>\n",
       "      <td>48</td>\n",
       "    </tr>\n",
       "    <tr>\n",
       "      <th>76</th>\n",
       "      <td>1</td>\n",
       "      <td>1.67</td>\n",
       "      <td>414</td>\n",
       "      <td>-0.82</td>\n",
       "      <td>0.0</td>\n",
       "      <td>0.0</td>\n",
       "      <td>TypeA</td>\n",
       "      <td>13</td>\n",
       "      <td>510</td>\n",
       "      <td>69</td>\n",
       "      <td>Private</td>\n",
       "      <td>FLUID MILK WHITE ONLY</td>\n",
       "      <td>1 GA</td>\n",
       "      <td>48</td>\n",
       "    </tr>\n",
       "    <tr>\n",
       "      <th>...</th>\n",
       "      <td>...</td>\n",
       "      <td>...</td>\n",
       "      <td>...</td>\n",
       "      <td>...</td>\n",
       "      <td>...</td>\n",
       "      <td>...</td>\n",
       "      <td>...</td>\n",
       "      <td>...</td>\n",
       "      <td>...</td>\n",
       "      <td>...</td>\n",
       "      <td>...</td>\n",
       "      <td>...</td>\n",
       "      <td>...</td>\n",
       "      <td>...</td>\n",
       "    </tr>\n",
       "    <tr>\n",
       "      <th>111432</th>\n",
       "      <td>1</td>\n",
       "      <td>1.00</td>\n",
       "      <td>292</td>\n",
       "      <td>-0.49</td>\n",
       "      <td>0.0</td>\n",
       "      <td>0.0</td>\n",
       "      <td>TypeA</td>\n",
       "      <td>18</td>\n",
       "      <td>608</td>\n",
       "      <td>531</td>\n",
       "      <td>National</td>\n",
       "      <td>CHOCOLATE MILK</td>\n",
       "      <td>PT</td>\n",
       "      <td>56</td>\n",
       "    </tr>\n",
       "    <tr>\n",
       "      <th>111433</th>\n",
       "      <td>1</td>\n",
       "      <td>2.89</td>\n",
       "      <td>292</td>\n",
       "      <td>0.00</td>\n",
       "      <td>0.0</td>\n",
       "      <td>0.0</td>\n",
       "      <td>TypeA</td>\n",
       "      <td>18</td>\n",
       "      <td>608</td>\n",
       "      <td>69</td>\n",
       "      <td>Private</td>\n",
       "      <td>CHOCOLATE MILK</td>\n",
       "      <td>1 GA</td>\n",
       "      <td>56</td>\n",
       "    </tr>\n",
       "    <tr>\n",
       "      <th>111435</th>\n",
       "      <td>1</td>\n",
       "      <td>1.00</td>\n",
       "      <td>292</td>\n",
       "      <td>-0.49</td>\n",
       "      <td>0.0</td>\n",
       "      <td>0.0</td>\n",
       "      <td>TypeA</td>\n",
       "      <td>18</td>\n",
       "      <td>608</td>\n",
       "      <td>531</td>\n",
       "      <td>National</td>\n",
       "      <td>MISCELLANEOUS MILK</td>\n",
       "      <td>13.5 OZ</td>\n",
       "      <td>56</td>\n",
       "    </tr>\n",
       "    <tr>\n",
       "      <th>111895</th>\n",
       "      <td>1</td>\n",
       "      <td>2.00</td>\n",
       "      <td>368</td>\n",
       "      <td>0.00</td>\n",
       "      <td>0.0</td>\n",
       "      <td>0.0</td>\n",
       "      <td>TypeA</td>\n",
       "      <td>13</td>\n",
       "      <td>506</td>\n",
       "      <td>5423</td>\n",
       "      <td>National</td>\n",
       "      <td>FLUID MILK WHITE ONLY</td>\n",
       "      <td></td>\n",
       "      <td>48</td>\n",
       "    </tr>\n",
       "    <tr>\n",
       "      <th>111922</th>\n",
       "      <td>1</td>\n",
       "      <td>1.25</td>\n",
       "      <td>327</td>\n",
       "      <td>-0.24</td>\n",
       "      <td>0.0</td>\n",
       "      <td>0.0</td>\n",
       "      <td>TypeA</td>\n",
       "      <td>8</td>\n",
       "      <td>422</td>\n",
       "      <td>531</td>\n",
       "      <td>National</td>\n",
       "      <td>CHOCOLATE MILK</td>\n",
       "      <td>13.5 OZ</td>\n",
       "      <td>49</td>\n",
       "    </tr>\n",
       "  </tbody>\n",
       "</table>\n",
       "<p>4755 rows × 14 columns</p>\n",
       "</div>"
      ],
      "text/plain": [
       "        QUANTITY  SALES_VALUE  STORE_ID  RETAIL_DISC  COUPON_DISC  \\\n",
       "72             1         2.49       414         0.00          0.0   \n",
       "73             1         2.49       414         0.00          0.0   \n",
       "74             1         2.49       414         0.00          0.0   \n",
       "75             1         2.49       414         0.00          0.0   \n",
       "76             1         1.67       414        -0.82          0.0   \n",
       "...          ...          ...       ...          ...          ...   \n",
       "111432         1         1.00       292        -0.49          0.0   \n",
       "111433         1         2.89       292         0.00          0.0   \n",
       "111435         1         1.00       292        -0.49          0.0   \n",
       "111895         1         2.00       368         0.00          0.0   \n",
       "111922         1         1.25       327        -0.24          0.0   \n",
       "\n",
       "        COUPON_MATCH_DISC description  CAMPAIGN  DAY  MANUFACTURER     BRAND  \\\n",
       "72                    0.0       TypeA        13  510            69   Private   \n",
       "73                    0.0       TypeA        13  510            69   Private   \n",
       "74                    0.0       TypeA        13  510            69   Private   \n",
       "75                    0.0       TypeA        13  510            69   Private   \n",
       "76                    0.0       TypeA        13  510            69   Private   \n",
       "...                   ...         ...       ...  ...           ...       ...   \n",
       "111432                0.0       TypeA        18  608           531  National   \n",
       "111433                0.0       TypeA        18  608            69   Private   \n",
       "111435                0.0       TypeA        18  608           531  National   \n",
       "111895                0.0       TypeA        13  506          5423  National   \n",
       "111922                0.0       TypeA         8  422           531  National   \n",
       "\n",
       "           SUB_COMMODITY_DESC CURR_SIZE_OF_PRODUCT  NUM_DAYS  \n",
       "72      FLUID MILK WHITE ONLY                 1 GA        48  \n",
       "73      FLUID MILK WHITE ONLY                 1 GA        48  \n",
       "74      FLUID MILK WHITE ONLY                 1 GA        48  \n",
       "75      FLUID MILK WHITE ONLY                 1 GA        48  \n",
       "76      FLUID MILK WHITE ONLY                 1 GA        48  \n",
       "...                       ...                  ...       ...  \n",
       "111432         CHOCOLATE MILK                   PT        56  \n",
       "111433         CHOCOLATE MILK                 1 GA        56  \n",
       "111435     MISCELLANEOUS MILK              13.5 OZ        56  \n",
       "111895  FLUID MILK WHITE ONLY                             48  \n",
       "111922         CHOCOLATE MILK              13.5 OZ        49  \n",
       "\n",
       "[4755 rows x 14 columns]"
      ]
     },
     "execution_count": 459,
     "metadata": {},
     "output_type": "execute_result"
    }
   ],
   "source": [
    "df_s_parent"
   ]
  },
  {
   "cell_type": "code",
   "execution_count": 460,
   "metadata": {},
   "outputs": [
    {
     "data": {
      "text/plain": [
       "1 GA        2280\n",
       "            2053\n",
       "16 OZ         98\n",
       "1 QT          90\n",
       "1 PT          63\n",
       "1/2 GAL       51\n",
       "64 OZ         40\n",
       "32 OZ         19\n",
       "GAL           17\n",
       "8 OZ          12\n",
       "1 GAL         10\n",
       "PT             8\n",
       ".5 GAL         6\n",
       "13.5 OZ        5\n",
       "1/2GAL         1\n",
       "6PK/8 OZ       1\n",
       "QT             1\n",
       "Name: CURR_SIZE_OF_PRODUCT, dtype: int64"
      ]
     },
     "execution_count": 460,
     "metadata": {},
     "output_type": "execute_result"
    }
   ],
   "source": [
    "df_s_parent['CURR_SIZE_OF_PRODUCT'].value_counts()"
   ]
  },
  {
   "cell_type": "code",
   "execution_count": 461,
   "metadata": {},
   "outputs": [],
   "source": [
    "def label_to_volume(label):\n",
    "    volume=int()\n",
    "    if label=='1 GA':\n",
    "        volume=128\n",
    "    elif label=='1 PT':\n",
    "        volume=16\n",
    "    elif label=='16 OZ':\n",
    "        volume=16\n",
    "    elif label=='1 QT':\n",
    "        volume=32\n",
    "    elif label=='PT':\n",
    "        volume=16\n",
    "        \n",
    "    return volume\n",
    "\n",
    "vect_label_to_volume=np.vectorize(label_to_volume)"
   ]
  },
  {
   "cell_type": "code",
   "execution_count": 462,
   "metadata": {},
   "outputs": [
    {
     "name": "stderr",
     "output_type": "stream",
     "text": [
      "<ipython-input-462-8d7fce3a0822>:1: SettingWithCopyWarning: \n",
      "A value is trying to be set on a copy of a slice from a DataFrame.\n",
      "Try using .loc[row_indexer,col_indexer] = value instead\n",
      "\n",
      "See the caveats in the documentation: https://pandas.pydata.org/pandas-docs/stable/user_guide/indexing.html#returning-a-view-versus-a-copy\n",
      "  df_s_parent['VOLUME']=vect_label_to_volume(df_s_parent['CURR_SIZE_OF_PRODUCT'])\n"
     ]
    },
    {
     "data": {
      "text/html": [
       "<div>\n",
       "<style scoped>\n",
       "    .dataframe tbody tr th:only-of-type {\n",
       "        vertical-align: middle;\n",
       "    }\n",
       "\n",
       "    .dataframe tbody tr th {\n",
       "        vertical-align: top;\n",
       "    }\n",
       "\n",
       "    .dataframe thead th {\n",
       "        text-align: right;\n",
       "    }\n",
       "</style>\n",
       "<table border=\"1\" class=\"dataframe\">\n",
       "  <thead>\n",
       "    <tr style=\"text-align: right;\">\n",
       "      <th></th>\n",
       "      <th>QUANTITY</th>\n",
       "      <th>SALES_VALUE</th>\n",
       "      <th>STORE_ID</th>\n",
       "      <th>RETAIL_DISC</th>\n",
       "      <th>COUPON_DISC</th>\n",
       "      <th>COUPON_MATCH_DISC</th>\n",
       "      <th>description</th>\n",
       "      <th>CAMPAIGN</th>\n",
       "      <th>DAY</th>\n",
       "      <th>MANUFACTURER</th>\n",
       "      <th>BRAND</th>\n",
       "      <th>SUB_COMMODITY_DESC</th>\n",
       "      <th>CURR_SIZE_OF_PRODUCT</th>\n",
       "      <th>NUM_DAYS</th>\n",
       "      <th>VOLUME</th>\n",
       "    </tr>\n",
       "  </thead>\n",
       "  <tbody>\n",
       "    <tr>\n",
       "      <th>72</th>\n",
       "      <td>1</td>\n",
       "      <td>2.49</td>\n",
       "      <td>414</td>\n",
       "      <td>0.00</td>\n",
       "      <td>0.0</td>\n",
       "      <td>0.0</td>\n",
       "      <td>TypeA</td>\n",
       "      <td>13</td>\n",
       "      <td>510</td>\n",
       "      <td>69</td>\n",
       "      <td>Private</td>\n",
       "      <td>FLUID MILK WHITE ONLY</td>\n",
       "      <td>1 GA</td>\n",
       "      <td>48</td>\n",
       "      <td>128</td>\n",
       "    </tr>\n",
       "    <tr>\n",
       "      <th>73</th>\n",
       "      <td>1</td>\n",
       "      <td>2.49</td>\n",
       "      <td>414</td>\n",
       "      <td>0.00</td>\n",
       "      <td>0.0</td>\n",
       "      <td>0.0</td>\n",
       "      <td>TypeA</td>\n",
       "      <td>13</td>\n",
       "      <td>510</td>\n",
       "      <td>69</td>\n",
       "      <td>Private</td>\n",
       "      <td>FLUID MILK WHITE ONLY</td>\n",
       "      <td>1 GA</td>\n",
       "      <td>48</td>\n",
       "      <td>128</td>\n",
       "    </tr>\n",
       "    <tr>\n",
       "      <th>74</th>\n",
       "      <td>1</td>\n",
       "      <td>2.49</td>\n",
       "      <td>414</td>\n",
       "      <td>0.00</td>\n",
       "      <td>0.0</td>\n",
       "      <td>0.0</td>\n",
       "      <td>TypeA</td>\n",
       "      <td>13</td>\n",
       "      <td>510</td>\n",
       "      <td>69</td>\n",
       "      <td>Private</td>\n",
       "      <td>FLUID MILK WHITE ONLY</td>\n",
       "      <td>1 GA</td>\n",
       "      <td>48</td>\n",
       "      <td>128</td>\n",
       "    </tr>\n",
       "    <tr>\n",
       "      <th>75</th>\n",
       "      <td>1</td>\n",
       "      <td>2.49</td>\n",
       "      <td>414</td>\n",
       "      <td>0.00</td>\n",
       "      <td>0.0</td>\n",
       "      <td>0.0</td>\n",
       "      <td>TypeA</td>\n",
       "      <td>13</td>\n",
       "      <td>510</td>\n",
       "      <td>69</td>\n",
       "      <td>Private</td>\n",
       "      <td>FLUID MILK WHITE ONLY</td>\n",
       "      <td>1 GA</td>\n",
       "      <td>48</td>\n",
       "      <td>128</td>\n",
       "    </tr>\n",
       "    <tr>\n",
       "      <th>76</th>\n",
       "      <td>1</td>\n",
       "      <td>1.67</td>\n",
       "      <td>414</td>\n",
       "      <td>-0.82</td>\n",
       "      <td>0.0</td>\n",
       "      <td>0.0</td>\n",
       "      <td>TypeA</td>\n",
       "      <td>13</td>\n",
       "      <td>510</td>\n",
       "      <td>69</td>\n",
       "      <td>Private</td>\n",
       "      <td>FLUID MILK WHITE ONLY</td>\n",
       "      <td>1 GA</td>\n",
       "      <td>48</td>\n",
       "      <td>128</td>\n",
       "    </tr>\n",
       "  </tbody>\n",
       "</table>\n",
       "</div>"
      ],
      "text/plain": [
       "    QUANTITY  SALES_VALUE  STORE_ID  RETAIL_DISC  COUPON_DISC  \\\n",
       "72         1         2.49       414         0.00          0.0   \n",
       "73         1         2.49       414         0.00          0.0   \n",
       "74         1         2.49       414         0.00          0.0   \n",
       "75         1         2.49       414         0.00          0.0   \n",
       "76         1         1.67       414        -0.82          0.0   \n",
       "\n",
       "    COUPON_MATCH_DISC description  CAMPAIGN  DAY  MANUFACTURER    BRAND  \\\n",
       "72                0.0       TypeA        13  510            69  Private   \n",
       "73                0.0       TypeA        13  510            69  Private   \n",
       "74                0.0       TypeA        13  510            69  Private   \n",
       "75                0.0       TypeA        13  510            69  Private   \n",
       "76                0.0       TypeA        13  510            69  Private   \n",
       "\n",
       "       SUB_COMMODITY_DESC CURR_SIZE_OF_PRODUCT  NUM_DAYS  VOLUME  \n",
       "72  FLUID MILK WHITE ONLY                 1 GA        48     128  \n",
       "73  FLUID MILK WHITE ONLY                 1 GA        48     128  \n",
       "74  FLUID MILK WHITE ONLY                 1 GA        48     128  \n",
       "75  FLUID MILK WHITE ONLY                 1 GA        48     128  \n",
       "76  FLUID MILK WHITE ONLY                 1 GA        48     128  "
      ]
     },
     "execution_count": 462,
     "metadata": {},
     "output_type": "execute_result"
    }
   ],
   "source": [
    "df_s_parent['VOLUME']=vect_label_to_volume(df_s_parent['CURR_SIZE_OF_PRODUCT'])\n",
    "df_s_parent.head()"
   ]
  },
  {
   "cell_type": "code",
   "execution_count": 463,
   "metadata": {},
   "outputs": [
    {
     "data": {
      "text/html": [
       "<div>\n",
       "<style scoped>\n",
       "    .dataframe tbody tr th:only-of-type {\n",
       "        vertical-align: middle;\n",
       "    }\n",
       "\n",
       "    .dataframe tbody tr th {\n",
       "        vertical-align: top;\n",
       "    }\n",
       "\n",
       "    .dataframe thead th {\n",
       "        text-align: right;\n",
       "    }\n",
       "</style>\n",
       "<table border=\"1\" class=\"dataframe\">\n",
       "  <thead>\n",
       "    <tr style=\"text-align: right;\">\n",
       "      <th></th>\n",
       "      <th>QUANTITY</th>\n",
       "      <th>SALES_VALUE</th>\n",
       "      <th>STORE_ID</th>\n",
       "      <th>RETAIL_DISC</th>\n",
       "      <th>COUPON_DISC</th>\n",
       "      <th>COUPON_MATCH_DISC</th>\n",
       "      <th>DAY</th>\n",
       "      <th>MANUFACTURER</th>\n",
       "      <th>NUM_DAYS</th>\n",
       "      <th>VOLUME</th>\n",
       "    </tr>\n",
       "    <tr>\n",
       "      <th>CAMPAIGN</th>\n",
       "      <th></th>\n",
       "      <th></th>\n",
       "      <th></th>\n",
       "      <th></th>\n",
       "      <th></th>\n",
       "      <th></th>\n",
       "      <th></th>\n",
       "      <th></th>\n",
       "      <th></th>\n",
       "      <th></th>\n",
       "    </tr>\n",
       "  </thead>\n",
       "  <tbody>\n",
       "    <tr>\n",
       "      <th>8</th>\n",
       "      <td>4414</td>\n",
       "      <td>7395.21</td>\n",
       "      <td>11526800</td>\n",
       "      <td>-2260.05</td>\n",
       "      <td>-6.09</td>\n",
       "      <td>-1.40</td>\n",
       "      <td>1038395</td>\n",
       "      <td>253625</td>\n",
       "      <td>119119</td>\n",
       "      <td>165888</td>\n",
       "    </tr>\n",
       "    <tr>\n",
       "      <th>13</th>\n",
       "      <td>2651</td>\n",
       "      <td>4388.69</td>\n",
       "      <td>5413378</td>\n",
       "      <td>-1344.57</td>\n",
       "      <td>-7.52</td>\n",
       "      <td>-0.45</td>\n",
       "      <td>839104</td>\n",
       "      <td>235690</td>\n",
       "      <td>78096</td>\n",
       "      <td>88576</td>\n",
       "    </tr>\n",
       "    <tr>\n",
       "      <th>18</th>\n",
       "      <td>1474</td>\n",
       "      <td>2299.86</td>\n",
       "      <td>917666</td>\n",
       "      <td>-798.35</td>\n",
       "      <td>-4.54</td>\n",
       "      <td>-1.45</td>\n",
       "      <td>419973</td>\n",
       "      <td>71762</td>\n",
       "      <td>39032</td>\n",
       "      <td>42960</td>\n",
       "    </tr>\n",
       "  </tbody>\n",
       "</table>\n",
       "</div>"
      ],
      "text/plain": [
       "          QUANTITY  SALES_VALUE  STORE_ID  RETAIL_DISC  COUPON_DISC  \\\n",
       "CAMPAIGN                                                              \n",
       "8             4414      7395.21  11526800     -2260.05        -6.09   \n",
       "13            2651      4388.69   5413378     -1344.57        -7.52   \n",
       "18            1474      2299.86    917666      -798.35        -4.54   \n",
       "\n",
       "          COUPON_MATCH_DISC      DAY  MANUFACTURER  NUM_DAYS  VOLUME  \n",
       "CAMPAIGN                                                              \n",
       "8                     -1.40  1038395        253625    119119  165888  \n",
       "13                    -0.45   839104        235690     78096   88576  \n",
       "18                    -1.45   419973         71762     39032   42960  "
      ]
     },
     "execution_count": 463,
     "metadata": {},
     "output_type": "execute_result"
    }
   ],
   "source": [
    "df_s_parent.groupby('CAMPAIGN').sum()"
   ]
  },
  {
   "cell_type": "code",
   "execution_count": 464,
   "metadata": {},
   "outputs": [],
   "source": [
    "df_s_parent=df_s_parent[df_s_parent['SALES_VALUE']<=8]"
   ]
  },
  {
   "cell_type": "code",
   "execution_count": 465,
   "metadata": {},
   "outputs": [],
   "source": [
    "sales=df_s_parent['SALES_VALUE']"
   ]
  },
  {
   "cell_type": "code",
   "execution_count": 466,
   "metadata": {},
   "outputs": [],
   "source": [
    "df_s_parent_features=df_s_parent.drop('SALES_VALUE', axis=1)"
   ]
  },
  {
   "cell_type": "code",
   "execution_count": 467,
   "metadata": {},
   "outputs": [
    {
     "data": {
      "text/plain": [
       "Index([             'QUANTITY',              'STORE_ID',\n",
       "                 'RETAIL_DISC',           'COUPON_DISC',\n",
       "           'COUPON_MATCH_DISC',           'description',\n",
       "                    'CAMPAIGN',                   'DAY',\n",
       "                'MANUFACTURER',                 'BRAND',\n",
       "          'SUB_COMMODITY_DESC',  'CURR_SIZE_OF_PRODUCT',\n",
       "                    'NUM_DAYS',                'VOLUME',\n",
       "                     'Private', 'FLUID MILK WHITE ONLY',\n",
       "          'MISCELLANEOUS MILK',                     531,\n",
       "                           709,                     865,\n",
       "                           926,                     927,\n",
       "                          1078,                    1453,\n",
       "                          1487,                    1543,\n",
       "                          5423],\n",
       "      dtype='object')"
      ]
     },
     "execution_count": 467,
     "metadata": {},
     "output_type": "execute_result"
    }
   ],
   "source": [
    "dummy=pd.get_dummies(df_s_parent_features['BRAND'],drop_first=True)\n",
    "dummy_milk_type=pd.get_dummies(df_s_parent_features['SUB_COMMODITY_DESC'],drop_first=True)\n",
    "#dummy_hh_size_desc=pd.get_dummies(df_s_parent_features['HOUSEHOLD_SIZE_DESC'],drop_first=True)\n",
    "dummy_manufacturer=pd.get_dummies(df_s_parent_features['MANUFACTURER'],drop_first=True)\n",
    "df_s_parent_features=pd.concat([df_s_parent_features,dummy], axis=1)\n",
    "df_s_parent_features=pd.concat([df_s_parent_features,dummy_milk_type], axis=1)\n",
    "#df_s_parent_features=pd.concat([df_s_parent_features,dummy_hh_size_desc], axis=1)\n",
    "df_s_parent_features=pd.concat([df_s_parent_features,dummy_manufacturer], axis=1)\n",
    "df_s_parent_features.columns"
   ]
  },
  {
   "cell_type": "code",
   "execution_count": 468,
   "metadata": {},
   "outputs": [],
   "source": [
    "df_s_parent_features.drop(['STORE_ID','QUANTITY','BRAND','description','MANUFACTURER','CURR_SIZE_OF_PRODUCT','SUB_COMMODITY_DESC', 'CAMPAIGN', 'NUM_DAYS'], axis=1, inplace=True)"
   ]
  },
  {
   "cell_type": "code",
   "execution_count": 469,
   "metadata": {},
   "outputs": [
    {
     "data": {
      "text/plain": [
       "<AxesSubplot:>"
      ]
     },
     "execution_count": 469,
     "metadata": {},
     "output_type": "execute_result"
    },
    {
     "data": {
      "image/png": "[encoded data removed]",
      "text/plain": [
       "<Figure size 432x288 with 2 Axes>"
      ]
     },
     "metadata": {
      "needs_background": "light"
     },
     "output_type": "display_data"
    }
   ],
   "source": [
    "sns.heatmap(df_s_parent_features.corr())"
   ]
  },
  {
   "cell_type": "code",
   "execution_count": 470,
   "metadata": {},
   "outputs": [
    {
     "data": {
      "text/plain": [
       "array(['RETAIL_DISC', 'COUPON_DISC', 'COUPON_MATCH_DISC', 'DAY', 'VOLUME',\n",
       "       'Private', 'FLUID MILK WHITE ONLY', 'MISCELLANEOUS MILK', 531, 709,\n",
       "       865, 926, 927, 1078, 1453, 1487, 1543, 5423], dtype=object)"
      ]
     },
     "execution_count": 470,
     "metadata": {},
     "output_type": "execute_result"
    }
   ],
   "source": [
    "df_s_parent_features.columns.values"
   ]
  },
  {
   "cell_type": "code",
   "execution_count": 471,
   "metadata": {},
   "outputs": [],
   "source": [
    "X=df_s_parent_features\n",
    "y=sales"
   ]
  },
  {
   "cell_type": "code",
   "execution_count": 472,
   "metadata": {},
   "outputs": [],
   "source": [
    "X_train,X_test,y_train,y_test=train_test_split(X, y, random_state = 22)"
   ]
  },
  {
   "cell_type": "code",
   "execution_count": 473,
   "metadata": {},
   "outputs": [],
   "source": [
    "sscaler=StandardScaler()"
   ]
  },
  {
   "cell_type": "code",
   "execution_count": 474,
   "metadata": {},
   "outputs": [],
   "source": [
    "X_train_scaled=sscaler.fit_transform(X_train)\n",
    "dump(sscaler,'scaler_file.save')\n",
    "\n",
    "X_test_scaled=sscaler.fit_transform(X_test)"
   ]
  },
  {
   "cell_type": "code",
   "execution_count": 475,
   "metadata": {},
   "outputs": [
    {
     "data": {
      "text/plain": [
       "Lasso(alpha=1e-05, max_iter=99999)"
      ]
     },
     "execution_count": 475,
     "metadata": {},
     "output_type": "execute_result"
    }
   ],
   "source": [
    "lasso=Lasso(alpha=0.00001,max_iter=99999)\n",
    "lasso.fit(X_train_scaled,y_train)"
   ]
  },
  {
   "cell_type": "code",
   "execution_count": 476,
   "metadata": {},
   "outputs": [
    {
     "data": {
      "text/plain": [
       "<matplotlib.collections.PathCollection at 0x7f90e42004f0>"
      ]
     },
     "execution_count": 476,
     "metadata": {},
     "output_type": "execute_result"
    },
    {
     "data": {
      "image/png": "[encoded data removed]",
      "text/plain": [
       "<Figure size 432x288 with 1 Axes>"
      ]
     },
     "metadata": {
      "needs_background": "light"
     },
     "output_type": "display_data"
    }
   ],
   "source": [
    "y_preds=lasso.predict(X_test_scaled)\n",
    "plt.scatter(y_test,y_preds)"
   ]
  },
  {
   "cell_type": "code",
   "execution_count": 477,
   "metadata": {},
   "outputs": [
    {
     "name": "stderr",
     "output_type": "stream",
     "text": [
      "/home/user-1711/venv/lib/python3.8/site-packages/seaborn/_decorators.py:36: FutureWarning: Pass the following variables as keyword args: x, y. From version 0.12, the only valid positional argument will be `data`, and passing other arguments without an explicit keyword will result in an error or misinterpretation.\n",
      "  warnings.warn(\n"
     ]
    },
    {
     "data": {
      "text/plain": [
       "<AxesSubplot:xlabel='SALES_VALUE'>"
      ]
     },
     "execution_count": 477,
     "metadata": {},
     "output_type": "execute_result"
    },
    {
     "data": {
      "image/png": "[encoded data removed]",
      "text/plain": [
       "<Figure size 432x288 with 1 Axes>"
      ]
     },
     "metadata": {
      "needs_background": "light"
     },
     "output_type": "display_data"
    }
   ],
   "source": [
    "sns.regplot(y_test,y_preds)"
   ]
  },
  {
   "cell_type": "code",
   "execution_count": 478,
   "metadata": {},
   "outputs": [
    {
     "data": {
      "text/plain": [
       "array(['VOLUME', 1543, 'MISCELLANEOUS MILK', 926, 927, 1078, 'DAY', 5423,\n",
       "       'FLUID MILK WHITE ONLY', 1487, 'COUPON_MATCH_DISC', 709,\n",
       "       'COUPON_DISC', 1453, 531, 'Private', 865, 'RETAIL_DISC'],\n",
       "      dtype=object)"
      ]
     },
     "execution_count": 478,
     "metadata": {},
     "output_type": "execute_result"
    }
   ],
   "source": [
    "features_and_coefs=pd.DataFrame({'features':X.columns, 'coefs':lasso.coef_}).sort_values(by='coefs', ascending=False)\n",
    "features_and_coefs.features.values"
   ]
  },
  {
   "cell_type": "code",
   "execution_count": 479,
   "metadata": {},
   "outputs": [
    {
     "data": {
      "text/plain": [
       "array([-0.00927262,  0.05802566,  0.05726216, -0.93306465,  1.02181264,\n",
       "        0.20080483,  0.31532811, -0.1839509 , -0.06576671, -0.07788362,\n",
       "       -0.04154065, -0.09320996, -0.04154065,  0.        , -0.04154065,\n",
       "       -0.04154065, -0.10219523, -0.05089866])"
      ]
     },
     "execution_count": 479,
     "metadata": {},
     "output_type": "execute_result"
    }
   ],
   "source": [
    "X_test_scaled[0]"
   ]
  },
  {
   "cell_type": "code",
   "execution_count": 480,
   "metadata": {},
   "outputs": [
    {
     "data": {
      "text/plain": [
       "array([0.48335912, 0.49968012, 0.47314504, 0.51290511, 0.45122714])"
      ]
     },
     "execution_count": 480,
     "metadata": {},
     "output_type": "execute_result"
    }
   ],
   "source": [
    "cross_val_score(lasso, X_train_scaled,y_train)"
   ]
  },
  {
   "cell_type": "code",
   "execution_count": 481,
   "metadata": {},
   "outputs": [
    {
     "data": {
      "text/plain": [
       "array([0.54052384, 0.52403228, 0.55475358, 0.44124059, 0.3566875 ])"
      ]
     },
     "execution_count": 481,
     "metadata": {},
     "output_type": "execute_result"
    }
   ],
   "source": [
    "cross_val_score(lasso, X_test_scaled,y_test)"
   ]
  },
  {
   "cell_type": "markdown",
   "metadata": {},
   "source": [
    "Next let's take the columns whose coefficients have a magnitude over 0.01. We'll try to estimate using ridge instead of lasso and see hot it performs.\n",
    "\n",
    "NB: REMOVE THE UNECESSARY COLUMNS FROM THE FEATURE MATRIX. NOT DONE YET."
   ]
  },
  {
   "cell_type": "code",
   "execution_count": 482,
   "metadata": {},
   "outputs": [
    {
     "data": {
      "text/plain": [
       "Ridge()"
      ]
     },
     "execution_count": 482,
     "metadata": {},
     "output_type": "execute_result"
    }
   ],
   "source": [
    "ridge=Ridge()\n",
    "ridge.fit(X_train_scaled,y_train)"
   ]
  },
  {
   "cell_type": "code",
   "execution_count": 483,
   "metadata": {},
   "outputs": [],
   "source": [
    "y_ridge_preds=ridge.predict(X_test_scaled)"
   ]
  },
  {
   "cell_type": "code",
   "execution_count": 484,
   "metadata": {},
   "outputs": [
    {
     "data": {
      "text/plain": [
       "array([0.55928865, 0.52393542, 0.55468027, 0.44162744, 0.35685181])"
      ]
     },
     "execution_count": 484,
     "metadata": {},
     "output_type": "execute_result"
    }
   ],
   "source": [
    "cross_val_score(ridge, X_test_scaled,y_test)"
   ]
  },
  {
   "cell_type": "code",
   "execution_count": 485,
   "metadata": {},
   "outputs": [
    {
     "data": {
      "text/plain": [
       "<matplotlib.collections.PathCollection at 0x7f90e4141ee0>"
      ]
     },
     "execution_count": 485,
     "metadata": {},
     "output_type": "execute_result"
    },
    {
     "data": {
      "image/png": "[encoded data removed]",
      "text/plain": [
       "<Figure size 432x288 with 1 Axes>"
      ]
     },
     "metadata": {
      "needs_background": "light"
     },
     "output_type": "display_data"
    }
   ],
   "source": [
    "plt.scatter(y_test,y_ridge_preds)"
   ]
  },
  {
   "cell_type": "code",
   "execution_count": 486,
   "metadata": {},
   "outputs": [
    {
     "data": {
      "text/plain": [
       "['spf_model.joblib']"
      ]
     },
     "execution_count": 486,
     "metadata": {},
     "output_type": "execute_result"
    }
   ],
   "source": [
    "dump(lasso, 'spf_model.joblib')"
   ]
  },
  {
   "cell_type": "code",
   "execution_count": null,
   "metadata": {},
   "outputs": [],
   "source": []
  }
 ],
 "metadata": {
  "kernelspec": {
   "display_name": "Python 3",
   "language": "python",
   "name": "python3"
  },
  "language_info": {
   "codemirror_mode": {
    "name": "ipython",
    "version": 3
   },
   "file_extension": ".py",
   "mimetype": "text/x-python",
   "name": "python",
   "nbconvert_exporter": "python",
   "pygments_lexer": "ipython3",
   "version": "3.8.5"
  }
 },
 "nbformat": 4,
 "nbformat_minor": 4
}
