{
 "cells": [
  {
   "cell_type": "markdown",
   "metadata": {},
   "source": [
    "# Analysis of Produce Sales at a Grocery Store"
   ]
  },
  {
   "cell_type": "markdown",
   "metadata": {},
   "source": [
    "### Apratim Biswas"
   ]
  },
  {
   "cell_type": "code",
   "execution_count": 112,
   "metadata": {},
   "outputs": [],
   "source": [
    "import sys\n",
    "import gc\n",
    "import pandas as pd\n",
    "import numpy as np\n",
    "import matplotlib.pyplot as plt\n",
    "import seaborn as sns\n",
    "from sklearn.model_selection import train_test_split, cross_val_score\n",
    "from sklearn.preprocessing import PolynomialFeatures, LabelEncoder\n",
    "from sklearn.preprocessing import StandardScaler\n",
    "from sklearn.linear_model import Lasso, Ridge\n",
    "from sklearn.neighbors import KNeighborsRegressor\n",
    "import joblib\n",
    "from joblib import dump"
   ]
  },
  {
   "cell_type": "code",
   "execution_count": 113,
   "metadata": {},
   "outputs": [],
   "source": [
    "df_data=pd.read_csv(\"../Dunnhumby-The_Complete_Journey-Data Prep/data/all_tables_combined.csv\")   #read data from all_tables_combined.csv"
   ]
  },
  {
   "cell_type": "code",
   "execution_count": 114,
   "metadata": {},
   "outputs": [
    {
     "data": {
      "text/html": [
       "<div>\n",
       "<style scoped>\n",
       "    .dataframe tbody tr th:only-of-type {\n",
       "        vertical-align: middle;\n",
       "    }\n",
       "\n",
       "    .dataframe tbody tr th {\n",
       "        vertical-align: top;\n",
       "    }\n",
       "\n",
       "    .dataframe thead th {\n",
       "        text-align: right;\n",
       "    }\n",
       "</style>\n",
       "<table border=\"1\" class=\"dataframe\">\n",
       "  <thead>\n",
       "    <tr style=\"text-align: right;\">\n",
       "      <th></th>\n",
       "      <th>household_key</th>\n",
       "      <th>PRODUCT_ID</th>\n",
       "      <th>QUANTITY</th>\n",
       "      <th>SALES_VALUE</th>\n",
       "      <th>STORE_ID</th>\n",
       "      <th>RETAIL_DISC</th>\n",
       "      <th>TRANS_TIME</th>\n",
       "      <th>COUPON_DISC</th>\n",
       "      <th>COUPON_MATCH_DISC</th>\n",
       "      <th>description</th>\n",
       "      <th>...</th>\n",
       "      <th>HOMEOWNER_DESC</th>\n",
       "      <th>HH_COMP_DESC</th>\n",
       "      <th>HOUSEHOLD_SIZE_DESC</th>\n",
       "      <th>KID_CATEGORY_DESC</th>\n",
       "      <th>MANUFACTURER</th>\n",
       "      <th>DEPARTMENT</th>\n",
       "      <th>BRAND</th>\n",
       "      <th>COMMODITY_DESC</th>\n",
       "      <th>SUB_COMMODITY_DESC</th>\n",
       "      <th>CURR_SIZE_OF_PRODUCT</th>\n",
       "    </tr>\n",
       "  </thead>\n",
       "  <tbody>\n",
       "    <tr>\n",
       "      <th>0</th>\n",
       "      <td>2305</td>\n",
       "      <td>873203</td>\n",
       "      <td>1</td>\n",
       "      <td>1.67</td>\n",
       "      <td>414</td>\n",
       "      <td>-1.02</td>\n",
       "      <td>1300</td>\n",
       "      <td>0.0</td>\n",
       "      <td>0.0</td>\n",
       "      <td>TypeA</td>\n",
       "      <td>...</td>\n",
       "      <td>Homeowner</td>\n",
       "      <td>Single Female</td>\n",
       "      <td>1</td>\n",
       "      <td>None/Unknown</td>\n",
       "      <td>69</td>\n",
       "      <td>GROCERY</td>\n",
       "      <td>Private</td>\n",
       "      <td>CHEESE</td>\n",
       "      <td>SHREDDED CHEESE</td>\n",
       "      <td>8 OZ</td>\n",
       "    </tr>\n",
       "    <tr>\n",
       "      <th>1</th>\n",
       "      <td>2305</td>\n",
       "      <td>873203</td>\n",
       "      <td>1</td>\n",
       "      <td>1.79</td>\n",
       "      <td>414</td>\n",
       "      <td>-0.90</td>\n",
       "      <td>1220</td>\n",
       "      <td>0.0</td>\n",
       "      <td>0.0</td>\n",
       "      <td>TypeA</td>\n",
       "      <td>...</td>\n",
       "      <td>Homeowner</td>\n",
       "      <td>Single Female</td>\n",
       "      <td>1</td>\n",
       "      <td>None/Unknown</td>\n",
       "      <td>69</td>\n",
       "      <td>GROCERY</td>\n",
       "      <td>Private</td>\n",
       "      <td>CHEESE</td>\n",
       "      <td>SHREDDED CHEESE</td>\n",
       "      <td>8 OZ</td>\n",
       "    </tr>\n",
       "    <tr>\n",
       "      <th>2</th>\n",
       "      <td>2305</td>\n",
       "      <td>873203</td>\n",
       "      <td>1</td>\n",
       "      <td>1.89</td>\n",
       "      <td>414</td>\n",
       "      <td>0.00</td>\n",
       "      <td>1111</td>\n",
       "      <td>0.0</td>\n",
       "      <td>0.0</td>\n",
       "      <td>TypeA</td>\n",
       "      <td>...</td>\n",
       "      <td>Homeowner</td>\n",
       "      <td>Single Female</td>\n",
       "      <td>1</td>\n",
       "      <td>None/Unknown</td>\n",
       "      <td>69</td>\n",
       "      <td>GROCERY</td>\n",
       "      <td>Private</td>\n",
       "      <td>CHEESE</td>\n",
       "      <td>SHREDDED CHEESE</td>\n",
       "      <td>8 OZ</td>\n",
       "    </tr>\n",
       "  </tbody>\n",
       "</table>\n",
       "<p>3 rows × 28 columns</p>\n",
       "</div>"
      ],
      "text/plain": [
       "   household_key  PRODUCT_ID  QUANTITY  SALES_VALUE  STORE_ID  RETAIL_DISC  \\\n",
       "0           2305      873203         1         1.67       414        -1.02   \n",
       "1           2305      873203         1         1.79       414        -0.90   \n",
       "2           2305      873203         1         1.89       414         0.00   \n",
       "\n",
       "   TRANS_TIME  COUPON_DISC  COUPON_MATCH_DISC description  ...  \\\n",
       "0        1300          0.0                0.0       TypeA  ...   \n",
       "1        1220          0.0                0.0       TypeA  ...   \n",
       "2        1111          0.0                0.0       TypeA  ...   \n",
       "\n",
       "   HOMEOWNER_DESC   HH_COMP_DESC  HOUSEHOLD_SIZE_DESC  KID_CATEGORY_DESC  \\\n",
       "0       Homeowner  Single Female                    1       None/Unknown   \n",
       "1       Homeowner  Single Female                    1       None/Unknown   \n",
       "2       Homeowner  Single Female                    1       None/Unknown   \n",
       "\n",
       "   MANUFACTURER DEPARTMENT    BRAND COMMODITY_DESC SUB_COMMODITY_DESC  \\\n",
       "0            69    GROCERY  Private         CHEESE    SHREDDED CHEESE   \n",
       "1            69    GROCERY  Private         CHEESE    SHREDDED CHEESE   \n",
       "2            69    GROCERY  Private         CHEESE    SHREDDED CHEESE   \n",
       "\n",
       "  CURR_SIZE_OF_PRODUCT  \n",
       "0                 8 OZ  \n",
       "1                 8 OZ  \n",
       "2                 8 OZ  \n",
       "\n",
       "[3 rows x 28 columns]"
      ]
     },
     "execution_count": 114,
     "metadata": {},
     "output_type": "execute_result"
    }
   ],
   "source": [
    "df_data.head(3)"
   ]
  },
  {
   "cell_type": "code",
   "execution_count": 115,
   "metadata": {},
   "outputs": [],
   "source": [
    "#df_s_parent=df_data[df_data['HH_COMP_DESC']==\"1 Adult Kids\"]\n",
    "#df_s_parent=df_data"
   ]
  },
  {
   "cell_type": "code",
   "execution_count": 116,
   "metadata": {},
   "outputs": [],
   "source": [
    "#determining length of campaign and dropping unnecessary columns.\n",
    "\n",
    "df_data['NUM_DAYS']=df_data['END_DAY'] - df_data['START_DAY'] + 1\n",
    "df_data.drop(['START_DAY','END_DAY','COUPON_UPC','household_key','PRODUCT_ID'], axis=1, inplace=True)"
   ]
  },
  {
   "cell_type": "code",
   "execution_count": 117,
   "metadata": {},
   "outputs": [
    {
     "data": {
      "text/html": [
       "<div>\n",
       "<style scoped>\n",
       "    .dataframe tbody tr th:only-of-type {\n",
       "        vertical-align: middle;\n",
       "    }\n",
       "\n",
       "    .dataframe tbody tr th {\n",
       "        vertical-align: top;\n",
       "    }\n",
       "\n",
       "    .dataframe thead th {\n",
       "        text-align: right;\n",
       "    }\n",
       "</style>\n",
       "<table border=\"1\" class=\"dataframe\">\n",
       "  <thead>\n",
       "    <tr style=\"text-align: right;\">\n",
       "      <th></th>\n",
       "      <th>QUANTITY</th>\n",
       "      <th>SALES_VALUE</th>\n",
       "      <th>STORE_ID</th>\n",
       "      <th>RETAIL_DISC</th>\n",
       "      <th>TRANS_TIME</th>\n",
       "      <th>COUPON_DISC</th>\n",
       "      <th>COUPON_MATCH_DISC</th>\n",
       "      <th>description</th>\n",
       "      <th>CAMPAIGN</th>\n",
       "      <th>DAY</th>\n",
       "      <th>...</th>\n",
       "      <th>HH_COMP_DESC</th>\n",
       "      <th>HOUSEHOLD_SIZE_DESC</th>\n",
       "      <th>KID_CATEGORY_DESC</th>\n",
       "      <th>MANUFACTURER</th>\n",
       "      <th>DEPARTMENT</th>\n",
       "      <th>BRAND</th>\n",
       "      <th>COMMODITY_DESC</th>\n",
       "      <th>SUB_COMMODITY_DESC</th>\n",
       "      <th>CURR_SIZE_OF_PRODUCT</th>\n",
       "      <th>NUM_DAYS</th>\n",
       "    </tr>\n",
       "  </thead>\n",
       "  <tbody>\n",
       "    <tr>\n",
       "      <th>0</th>\n",
       "      <td>1</td>\n",
       "      <td>1.67</td>\n",
       "      <td>414</td>\n",
       "      <td>-1.02</td>\n",
       "      <td>1300</td>\n",
       "      <td>0.0</td>\n",
       "      <td>0.0</td>\n",
       "      <td>TypeA</td>\n",
       "      <td>13</td>\n",
       "      <td>510</td>\n",
       "      <td>...</td>\n",
       "      <td>Single Female</td>\n",
       "      <td>1</td>\n",
       "      <td>None/Unknown</td>\n",
       "      <td>69</td>\n",
       "      <td>GROCERY</td>\n",
       "      <td>Private</td>\n",
       "      <td>CHEESE</td>\n",
       "      <td>SHREDDED CHEESE</td>\n",
       "      <td>8 OZ</td>\n",
       "      <td>48</td>\n",
       "    </tr>\n",
       "    <tr>\n",
       "      <th>1</th>\n",
       "      <td>1</td>\n",
       "      <td>1.79</td>\n",
       "      <td>414</td>\n",
       "      <td>-0.90</td>\n",
       "      <td>1220</td>\n",
       "      <td>0.0</td>\n",
       "      <td>0.0</td>\n",
       "      <td>TypeA</td>\n",
       "      <td>13</td>\n",
       "      <td>510</td>\n",
       "      <td>...</td>\n",
       "      <td>Single Female</td>\n",
       "      <td>1</td>\n",
       "      <td>None/Unknown</td>\n",
       "      <td>69</td>\n",
       "      <td>GROCERY</td>\n",
       "      <td>Private</td>\n",
       "      <td>CHEESE</td>\n",
       "      <td>SHREDDED CHEESE</td>\n",
       "      <td>8 OZ</td>\n",
       "      <td>48</td>\n",
       "    </tr>\n",
       "  </tbody>\n",
       "</table>\n",
       "<p>2 rows × 24 columns</p>\n",
       "</div>"
      ],
      "text/plain": [
       "   QUANTITY  SALES_VALUE  STORE_ID  RETAIL_DISC  TRANS_TIME  COUPON_DISC  \\\n",
       "0         1         1.67       414        -1.02        1300          0.0   \n",
       "1         1         1.79       414        -0.90        1220          0.0   \n",
       "\n",
       "   COUPON_MATCH_DISC description  CAMPAIGN  DAY  ...   HH_COMP_DESC  \\\n",
       "0                0.0       TypeA        13  510  ...  Single Female   \n",
       "1                0.0       TypeA        13  510  ...  Single Female   \n",
       "\n",
       "  HOUSEHOLD_SIZE_DESC KID_CATEGORY_DESC MANUFACTURER DEPARTMENT    BRAND  \\\n",
       "0                   1      None/Unknown           69    GROCERY  Private   \n",
       "1                   1      None/Unknown           69    GROCERY  Private   \n",
       "\n",
       "  COMMODITY_DESC  SUB_COMMODITY_DESC CURR_SIZE_OF_PRODUCT NUM_DAYS  \n",
       "0         CHEESE     SHREDDED CHEESE                 8 OZ       48  \n",
       "1         CHEESE     SHREDDED CHEESE                 8 OZ       48  \n",
       "\n",
       "[2 rows x 24 columns]"
      ]
     },
     "execution_count": 117,
     "metadata": {},
     "output_type": "execute_result"
    }
   ],
   "source": [
    "df_data.head(2)"
   ]
  },
  {
   "cell_type": "code",
   "execution_count": 118,
   "metadata": {},
   "outputs": [],
   "source": [
    "#sns.pairplot(df_data)"
   ]
  },
  {
   "cell_type": "code",
   "execution_count": 119,
   "metadata": {},
   "outputs": [
    {
     "data": {
      "text/html": [
       "<div>\n",
       "<style scoped>\n",
       "    .dataframe tbody tr th:only-of-type {\n",
       "        vertical-align: middle;\n",
       "    }\n",
       "\n",
       "    .dataframe tbody tr th {\n",
       "        vertical-align: top;\n",
       "    }\n",
       "\n",
       "    .dataframe thead th {\n",
       "        text-align: right;\n",
       "    }\n",
       "</style>\n",
       "<table border=\"1\" class=\"dataframe\">\n",
       "  <thead>\n",
       "    <tr style=\"text-align: right;\">\n",
       "      <th></th>\n",
       "      <th>QUANTITY</th>\n",
       "      <th>SALES_VALUE</th>\n",
       "      <th>STORE_ID</th>\n",
       "      <th>RETAIL_DISC</th>\n",
       "      <th>TRANS_TIME</th>\n",
       "      <th>COUPON_DISC</th>\n",
       "      <th>COUPON_MATCH_DISC</th>\n",
       "      <th>description</th>\n",
       "      <th>CAMPAIGN</th>\n",
       "      <th>DAY</th>\n",
       "      <th>...</th>\n",
       "      <th>HH_COMP_DESC</th>\n",
       "      <th>HOUSEHOLD_SIZE_DESC</th>\n",
       "      <th>KID_CATEGORY_DESC</th>\n",
       "      <th>MANUFACTURER</th>\n",
       "      <th>DEPARTMENT</th>\n",
       "      <th>BRAND</th>\n",
       "      <th>COMMODITY_DESC</th>\n",
       "      <th>SUB_COMMODITY_DESC</th>\n",
       "      <th>CURR_SIZE_OF_PRODUCT</th>\n",
       "      <th>NUM_DAYS</th>\n",
       "    </tr>\n",
       "  </thead>\n",
       "  <tbody>\n",
       "    <tr>\n",
       "      <th>0</th>\n",
       "      <td>1</td>\n",
       "      <td>1.67</td>\n",
       "      <td>414</td>\n",
       "      <td>-1.02</td>\n",
       "      <td>1300</td>\n",
       "      <td>0.0</td>\n",
       "      <td>0.0</td>\n",
       "      <td>TypeA</td>\n",
       "      <td>13</td>\n",
       "      <td>510</td>\n",
       "      <td>...</td>\n",
       "      <td>Single Female</td>\n",
       "      <td>1</td>\n",
       "      <td>None/Unknown</td>\n",
       "      <td>69</td>\n",
       "      <td>GROCERY</td>\n",
       "      <td>Private</td>\n",
       "      <td>CHEESE</td>\n",
       "      <td>SHREDDED CHEESE</td>\n",
       "      <td>8 OZ</td>\n",
       "      <td>48</td>\n",
       "    </tr>\n",
       "    <tr>\n",
       "      <th>1</th>\n",
       "      <td>1</td>\n",
       "      <td>1.79</td>\n",
       "      <td>414</td>\n",
       "      <td>-0.90</td>\n",
       "      <td>1220</td>\n",
       "      <td>0.0</td>\n",
       "      <td>0.0</td>\n",
       "      <td>TypeA</td>\n",
       "      <td>13</td>\n",
       "      <td>510</td>\n",
       "      <td>...</td>\n",
       "      <td>Single Female</td>\n",
       "      <td>1</td>\n",
       "      <td>None/Unknown</td>\n",
       "      <td>69</td>\n",
       "      <td>GROCERY</td>\n",
       "      <td>Private</td>\n",
       "      <td>CHEESE</td>\n",
       "      <td>SHREDDED CHEESE</td>\n",
       "      <td>8 OZ</td>\n",
       "      <td>48</td>\n",
       "    </tr>\n",
       "    <tr>\n",
       "      <th>2</th>\n",
       "      <td>1</td>\n",
       "      <td>1.89</td>\n",
       "      <td>414</td>\n",
       "      <td>0.00</td>\n",
       "      <td>1111</td>\n",
       "      <td>0.0</td>\n",
       "      <td>0.0</td>\n",
       "      <td>TypeA</td>\n",
       "      <td>13</td>\n",
       "      <td>510</td>\n",
       "      <td>...</td>\n",
       "      <td>Single Female</td>\n",
       "      <td>1</td>\n",
       "      <td>None/Unknown</td>\n",
       "      <td>69</td>\n",
       "      <td>GROCERY</td>\n",
       "      <td>Private</td>\n",
       "      <td>CHEESE</td>\n",
       "      <td>SHREDDED CHEESE</td>\n",
       "      <td>8 OZ</td>\n",
       "      <td>48</td>\n",
       "    </tr>\n",
       "    <tr>\n",
       "      <th>3</th>\n",
       "      <td>1</td>\n",
       "      <td>1.67</td>\n",
       "      <td>414</td>\n",
       "      <td>-0.22</td>\n",
       "      <td>1341</td>\n",
       "      <td>0.0</td>\n",
       "      <td>0.0</td>\n",
       "      <td>TypeA</td>\n",
       "      <td>13</td>\n",
       "      <td>510</td>\n",
       "      <td>...</td>\n",
       "      <td>Single Female</td>\n",
       "      <td>1</td>\n",
       "      <td>None/Unknown</td>\n",
       "      <td>69</td>\n",
       "      <td>GROCERY</td>\n",
       "      <td>Private</td>\n",
       "      <td>CHEESE</td>\n",
       "      <td>SHREDDED CHEESE</td>\n",
       "      <td>8 OZ</td>\n",
       "      <td>48</td>\n",
       "    </tr>\n",
       "    <tr>\n",
       "      <th>4</th>\n",
       "      <td>1</td>\n",
       "      <td>1.67</td>\n",
       "      <td>414</td>\n",
       "      <td>-0.22</td>\n",
       "      <td>1243</td>\n",
       "      <td>0.0</td>\n",
       "      <td>0.0</td>\n",
       "      <td>TypeA</td>\n",
       "      <td>13</td>\n",
       "      <td>510</td>\n",
       "      <td>...</td>\n",
       "      <td>Single Female</td>\n",
       "      <td>1</td>\n",
       "      <td>None/Unknown</td>\n",
       "      <td>69</td>\n",
       "      <td>GROCERY</td>\n",
       "      <td>Private</td>\n",
       "      <td>CHEESE</td>\n",
       "      <td>SHREDDED CHEESE</td>\n",
       "      <td>8 OZ</td>\n",
       "      <td>48</td>\n",
       "    </tr>\n",
       "    <tr>\n",
       "      <th>...</th>\n",
       "      <td>...</td>\n",
       "      <td>...</td>\n",
       "      <td>...</td>\n",
       "      <td>...</td>\n",
       "      <td>...</td>\n",
       "      <td>...</td>\n",
       "      <td>...</td>\n",
       "      <td>...</td>\n",
       "      <td>...</td>\n",
       "      <td>...</td>\n",
       "      <td>...</td>\n",
       "      <td>...</td>\n",
       "      <td>...</td>\n",
       "      <td>...</td>\n",
       "      <td>...</td>\n",
       "      <td>...</td>\n",
       "      <td>...</td>\n",
       "      <td>...</td>\n",
       "      <td>...</td>\n",
       "      <td>...</td>\n",
       "      <td>...</td>\n",
       "    </tr>\n",
       "    <tr>\n",
       "      <th>112017</th>\n",
       "      <td>1</td>\n",
       "      <td>2.50</td>\n",
       "      <td>304</td>\n",
       "      <td>-0.19</td>\n",
       "      <td>1456</td>\n",
       "      <td>0.0</td>\n",
       "      <td>0.0</td>\n",
       "      <td>TypeA</td>\n",
       "      <td>18</td>\n",
       "      <td>603</td>\n",
       "      <td>...</td>\n",
       "      <td>1 Adult Kids</td>\n",
       "      <td>4</td>\n",
       "      <td>3+</td>\n",
       "      <td>135</td>\n",
       "      <td>GROCERY</td>\n",
       "      <td>National</td>\n",
       "      <td>FRZN POTATOES</td>\n",
       "      <td>FRZN FRENCH FRIES</td>\n",
       "      <td>26 OZ</td>\n",
       "      <td>56</td>\n",
       "    </tr>\n",
       "    <tr>\n",
       "      <th>112018</th>\n",
       "      <td>2</td>\n",
       "      <td>3.70</td>\n",
       "      <td>402</td>\n",
       "      <td>0.00</td>\n",
       "      <td>1334</td>\n",
       "      <td>0.0</td>\n",
       "      <td>0.0</td>\n",
       "      <td>TypeA</td>\n",
       "      <td>8</td>\n",
       "      <td>438</td>\n",
       "      <td>...</td>\n",
       "      <td>2 Adults No Kids</td>\n",
       "      <td>2</td>\n",
       "      <td>None/Unknown</td>\n",
       "      <td>1251</td>\n",
       "      <td>GROCERY</td>\n",
       "      <td>National</td>\n",
       "      <td>SOUP</td>\n",
       "      <td>RTS SOUP: CHUNKY/HOMESTYLE ET</td>\n",
       "      <td>18.8 OZ</td>\n",
       "      <td>49</td>\n",
       "    </tr>\n",
       "    <tr>\n",
       "      <th>112019</th>\n",
       "      <td>1</td>\n",
       "      <td>5.49</td>\n",
       "      <td>402</td>\n",
       "      <td>0.00</td>\n",
       "      <td>1334</td>\n",
       "      <td>0.0</td>\n",
       "      <td>0.0</td>\n",
       "      <td>TypeA</td>\n",
       "      <td>18</td>\n",
       "      <td>608</td>\n",
       "      <td>...</td>\n",
       "      <td>2 Adults No Kids</td>\n",
       "      <td>2</td>\n",
       "      <td>None/Unknown</td>\n",
       "      <td>26</td>\n",
       "      <td>DRUG GM</td>\n",
       "      <td>National</td>\n",
       "      <td>DIETARY AID PRODUCTS</td>\n",
       "      <td>DIET CNTRL LIQS NUTRITIONAL</td>\n",
       "      <td></td>\n",
       "      <td>56</td>\n",
       "    </tr>\n",
       "    <tr>\n",
       "      <th>112020</th>\n",
       "      <td>1</td>\n",
       "      <td>5.59</td>\n",
       "      <td>402</td>\n",
       "      <td>0.00</td>\n",
       "      <td>1334</td>\n",
       "      <td>0.0</td>\n",
       "      <td>0.0</td>\n",
       "      <td>TypeA</td>\n",
       "      <td>18</td>\n",
       "      <td>608</td>\n",
       "      <td>...</td>\n",
       "      <td>2 Adults No Kids</td>\n",
       "      <td>2</td>\n",
       "      <td>None/Unknown</td>\n",
       "      <td>26</td>\n",
       "      <td>DRUG GM</td>\n",
       "      <td>National</td>\n",
       "      <td>DIETARY AID PRODUCTS</td>\n",
       "      <td>DIET CNTRL LIQS NUTRITIONAL</td>\n",
       "      <td></td>\n",
       "      <td>56</td>\n",
       "    </tr>\n",
       "    <tr>\n",
       "      <th>112021</th>\n",
       "      <td>1</td>\n",
       "      <td>1.50</td>\n",
       "      <td>343</td>\n",
       "      <td>-1.09</td>\n",
       "      <td>1637</td>\n",
       "      <td>0.0</td>\n",
       "      <td>0.0</td>\n",
       "      <td>TypeA</td>\n",
       "      <td>8</td>\n",
       "      <td>415</td>\n",
       "      <td>...</td>\n",
       "      <td>2 Adults Kids</td>\n",
       "      <td>4</td>\n",
       "      <td>2</td>\n",
       "      <td>69</td>\n",
       "      <td>MEAT-PCKGD</td>\n",
       "      <td>Private</td>\n",
       "      <td>HOT DOGS</td>\n",
       "      <td>PREMIUM - MEAT</td>\n",
       "      <td>16 OZ</td>\n",
       "      <td>49</td>\n",
       "    </tr>\n",
       "  </tbody>\n",
       "</table>\n",
       "<p>112022 rows × 24 columns</p>\n",
       "</div>"
      ],
      "text/plain": [
       "        QUANTITY  SALES_VALUE  STORE_ID  RETAIL_DISC  TRANS_TIME  COUPON_DISC  \\\n",
       "0              1         1.67       414        -1.02        1300          0.0   \n",
       "1              1         1.79       414        -0.90        1220          0.0   \n",
       "2              1         1.89       414         0.00        1111          0.0   \n",
       "3              1         1.67       414        -0.22        1341          0.0   \n",
       "4              1         1.67       414        -0.22        1243          0.0   \n",
       "...          ...          ...       ...          ...         ...          ...   \n",
       "112017         1         2.50       304        -0.19        1456          0.0   \n",
       "112018         2         3.70       402         0.00        1334          0.0   \n",
       "112019         1         5.49       402         0.00        1334          0.0   \n",
       "112020         1         5.59       402         0.00        1334          0.0   \n",
       "112021         1         1.50       343        -1.09        1637          0.0   \n",
       "\n",
       "        COUPON_MATCH_DISC description  CAMPAIGN  DAY  ...      HH_COMP_DESC  \\\n",
       "0                     0.0       TypeA        13  510  ...     Single Female   \n",
       "1                     0.0       TypeA        13  510  ...     Single Female   \n",
       "2                     0.0       TypeA        13  510  ...     Single Female   \n",
       "3                     0.0       TypeA        13  510  ...     Single Female   \n",
       "4                     0.0       TypeA        13  510  ...     Single Female   \n",
       "...                   ...         ...       ...  ...  ...               ...   \n",
       "112017                0.0       TypeA        18  603  ...      1 Adult Kids   \n",
       "112018                0.0       TypeA         8  438  ...  2 Adults No Kids   \n",
       "112019                0.0       TypeA        18  608  ...  2 Adults No Kids   \n",
       "112020                0.0       TypeA        18  608  ...  2 Adults No Kids   \n",
       "112021                0.0       TypeA         8  415  ...     2 Adults Kids   \n",
       "\n",
       "       HOUSEHOLD_SIZE_DESC KID_CATEGORY_DESC MANUFACTURER  DEPARTMENT  \\\n",
       "0                        1      None/Unknown           69     GROCERY   \n",
       "1                        1      None/Unknown           69     GROCERY   \n",
       "2                        1      None/Unknown           69     GROCERY   \n",
       "3                        1      None/Unknown           69     GROCERY   \n",
       "4                        1      None/Unknown           69     GROCERY   \n",
       "...                    ...               ...          ...         ...   \n",
       "112017                   4                3+          135     GROCERY   \n",
       "112018                   2      None/Unknown         1251     GROCERY   \n",
       "112019                   2      None/Unknown           26     DRUG GM   \n",
       "112020                   2      None/Unknown           26     DRUG GM   \n",
       "112021                   4                 2           69  MEAT-PCKGD   \n",
       "\n",
       "           BRAND        COMMODITY_DESC             SUB_COMMODITY_DESC  \\\n",
       "0        Private                CHEESE                SHREDDED CHEESE   \n",
       "1        Private                CHEESE                SHREDDED CHEESE   \n",
       "2        Private                CHEESE                SHREDDED CHEESE   \n",
       "3        Private                CHEESE                SHREDDED CHEESE   \n",
       "4        Private                CHEESE                SHREDDED CHEESE   \n",
       "...          ...                   ...                            ...   \n",
       "112017  National         FRZN POTATOES              FRZN FRENCH FRIES   \n",
       "112018  National                  SOUP  RTS SOUP: CHUNKY/HOMESTYLE ET   \n",
       "112019  National  DIETARY AID PRODUCTS    DIET CNTRL LIQS NUTRITIONAL   \n",
       "112020  National  DIETARY AID PRODUCTS    DIET CNTRL LIQS NUTRITIONAL   \n",
       "112021   Private              HOT DOGS                 PREMIUM - MEAT   \n",
       "\n",
       "       CURR_SIZE_OF_PRODUCT NUM_DAYS  \n",
       "0                      8 OZ       48  \n",
       "1                      8 OZ       48  \n",
       "2                      8 OZ       48  \n",
       "3                      8 OZ       48  \n",
       "4                      8 OZ       48  \n",
       "...                     ...      ...  \n",
       "112017                26 OZ       56  \n",
       "112018              18.8 OZ       49  \n",
       "112019                            56  \n",
       "112020                            56  \n",
       "112021                16 OZ       49  \n",
       "\n",
       "[112022 rows x 24 columns]"
      ]
     },
     "execution_count": 119,
     "metadata": {},
     "output_type": "execute_result"
    }
   ],
   "source": [
    "df_data"
   ]
  },
  {
   "cell_type": "markdown",
   "metadata": {},
   "source": [
    "Let's compute discount percent and then drop all rows with NA."
   ]
  },
  {
   "cell_type": "code",
   "execution_count": 120,
   "metadata": {},
   "outputs": [
    {
     "data": {
      "text/plain": [
       "0"
      ]
     },
     "execution_count": 120,
     "metadata": {},
     "output_type": "execute_result"
    }
   ],
   "source": [
    "df_data['DISCOUNT_PCT']=(df_data['RETAIL_DISC']+df_data['COUPON_DISC']+df_data['COUPON_MATCH_DISC'])*100/(df_data['RETAIL_DISC']+df_data['COUPON_DISC']+df_data['COUPON_MATCH_DISC']+df_data['SALES_VALUE'])\n",
    "df_data['DISCOUNT_PCT']=~df_data['DISCOUNT_PCT'].isna()\n",
    "df_data['DISCOUNT_PCT'].isna().sum()"
   ]
  },
  {
   "cell_type": "code",
   "execution_count": 121,
   "metadata": {},
   "outputs": [
    {
     "data": {
      "text/plain": [
       "TypeA    105537\n",
       "TypeB      5972\n",
       "TypeC       513\n",
       "Name: description, dtype: int64"
      ]
     },
     "execution_count": 121,
     "metadata": {},
     "output_type": "execute_result"
    }
   ],
   "source": [
    "df_data['description'].value_counts()   #number of transactions belonging to campaign within each type of campaign."
   ]
  },
  {
   "cell_type": "code",
   "execution_count": 122,
   "metadata": {},
   "outputs": [
    {
     "data": {
      "text/plain": [
       "Index(['QUANTITY', 'SALES_VALUE', 'STORE_ID', 'RETAIL_DISC', 'TRANS_TIME',\n",
       "       'COUPON_DISC', 'COUPON_MATCH_DISC', 'description', 'CAMPAIGN', 'DAY',\n",
       "       'AGE_DESC', 'MARITAL_STATUS_CODE', 'INCOME_DESC', 'HOMEOWNER_DESC',\n",
       "       'HH_COMP_DESC', 'HOUSEHOLD_SIZE_DESC', 'KID_CATEGORY_DESC',\n",
       "       'MANUFACTURER', 'DEPARTMENT', 'BRAND', 'COMMODITY_DESC',\n",
       "       'SUB_COMMODITY_DESC', 'CURR_SIZE_OF_PRODUCT', 'NUM_DAYS',\n",
       "       'DISCOUNT_PCT'],\n",
       "      dtype='object')"
      ]
     },
     "execution_count": 122,
     "metadata": {},
     "output_type": "execute_result"
    }
   ],
   "source": [
    "df_data.columns"
   ]
  },
  {
   "cell_type": "markdown",
   "metadata": {},
   "source": [
    "Let's take a look at the most frequent commodities in the dataset."
   ]
  },
  {
   "cell_type": "code",
   "execution_count": 123,
   "metadata": {},
   "outputs": [
    {
     "data": {
      "text/plain": [
       "FLUID MILK PRODUCTS          6210\n",
       "BEEF                         5660\n",
       "FRZN MEAT/MEAT DINNERS       5620\n",
       "YOGURT                       5403\n",
       "TROPICAL FRUIT               3832\n",
       "                             ... \n",
       "PWDR/CRYSTL DRNK MX             1\n",
       "HALLOWEEN                       1\n",
       "WATCHES/CALCULATORS/LOBBY       1\n",
       "FALL AND WINTER SEASONAL        1\n",
       "RW FRESH PROCESSED MEAT         1\n",
       "Name: COMMODITY_DESC, Length: 215, dtype: int64"
      ]
     },
     "execution_count": 123,
     "metadata": {},
     "output_type": "execute_result"
    }
   ],
   "source": [
    "df_data['COMMODITY_DESC'].value_counts()"
   ]
  },
  {
   "cell_type": "code",
   "execution_count": 124,
   "metadata": {},
   "outputs": [
    {
     "data": {
      "text/plain": [
       "array(['CHEESE', 'GRAPES', 'SALAD MIX', 'MELONS', 'TOMATOES',\n",
       "       'FLUID MILK PRODUCTS', 'VEGETABLES - ALL OTHERS',\n",
       "       'MILK BY-PRODUCTS', 'COLD CEREAL', 'SEAFOOD-FRESH', 'EGGS',\n",
       "       'TROPICAL FRUIT', 'FLORAL-FRESH CUT', 'FROZEN PIZZA',\n",
       "       'PASTA SAUCE', 'FRZN MEAT/MEAT DINNERS', 'FROZEN PIE/DESSERTS',\n",
       "       'FROZEN BREAD/DOUGH', 'SALAD BAR', 'CHICKEN', 'MARGARINES',\n",
       "       'BACON', 'BEEF', 'PORK', 'REFRGRATD JUICES/DRNKS',\n",
       "       'FRUIT - SHELF STABLE', 'REFRGRATD DOUGH PRODUCTS', 'LUNCHMEAT',\n",
       "       'MEAT - MISC', 'HOT DOGS', 'SWEET GOODS & SNACKS', 'BERRIES',\n",
       "       'YOGURT', 'ICE CREAM/MILK/SHERBTS', 'TURKEY',\n",
       "       'BROCCOLI/CAULIFLOWER', 'MOLASSES/SYRUP/PANCAKE MIXS', 'CITRUS',\n",
       "       'APPLES', 'VEGETABLES SALAD', 'PEPPERS-ALL', 'SEAFOOD - FROZEN',\n",
       "       'VEAL', 'LAXATIVES', 'ORAL HYGIENE PRODUCTS', 'COLD AND FLU',\n",
       "       'MAKEUP AND TREATMENT', 'ANALGESICS', 'SOFT DRINKS', 'CARROTS',\n",
       "       'PICKLE/RELISH/PKLD VEG', 'DINNER SAUSAGE',\n",
       "       'FRZN NOVELTIES/WTR ICE', 'POTATOES', 'BABY HBC', 'ONIONS',\n",
       "       'DOG FOODS', 'FRZN VEGETABLE/VEG DSH', 'MISC. DAIRY',\n",
       "       'VALUE ADDED FRUIT', 'SMOKED MEATS',\n",
       "       'BREAKFAST SAUSAGE/SANDWICHES', 'FRZN BREAKFAST FOODS',\n",
       "       'EYE AND EAR CARE PRODUCTS', 'SHAVING CARE PRODUCTS',\n",
       "       'CONVENIENT BRKFST/WHLSM SNACKS', 'FOOT CARE PRODUCTS',\n",
       "       'MISCELLANEOUS', 'FROZEN MEAT', 'BATH TISSUES', 'FRZN POTATOES',\n",
       "       'MEAT SUPPLIES', 'JUICE', 'COUPON/MISC ITEMS',\n",
       "       'HAIR CARE PRODUCTS', 'SOAP - LIQUID & BAR',\n",
       "       'HAND/BODY/FACIAL PRODUCTS', 'PEARS',\n",
       "       'ORGANICS FRUIT & VEGETABLES', 'INFANT FORMULA',\n",
       "       'DIETARY AID PRODUCTS', 'DEODORANTS', 'HEAT/SERVE', 'CORN',\n",
       "       'BAG SNACKS', 'MUSHROOMS', 'HERBS', 'NUTS', 'PROCESSED',\n",
       "       'HISPANIC', 'DRY NOODLES/PASTA', 'CANNED JUICES', 'SQUASH',\n",
       "       'FEMININE HYGIENE', 'FROZEN - BOXED(GROCERY)',\n",
       "       'CRACKERS/MISC BKD FD', 'FLORAL-FLOWERING PLANTS', 'FROZEN',\n",
       "       'DIAPERS & DISPOSABLES', 'FIRST AID PRODUCTS', 'CAT FOOD',\n",
       "       'GREETING CARDS/WRAP/PARTY SPLY', 'DRIED FRUIT',\n",
       "       'FD WRAPS/BAGS/TRSH BG', 'GARDEN CENTER', 'SALD DRSNG/SNDWCH SPRD',\n",
       "       'FACIAL TISS/DNR NAPKIN', 'ROSES', 'ANTACIDS', 'CANDY - PACKAGED',\n",
       "       'ISOTONIC DRINKS', 'BAKED BREAD/BUNS/ROLLS', 'COFFEE',\n",
       "       'FRZN FRUITS', 'BABY FOODS', 'VEGETABLES - SHELF STABLE',\n",
       "       'FAMILY PLANNING', 'DRY MIX DESSERTS', 'HOT CEREAL',\n",
       "       'REFRIGERATED', 'HAIR CARE ACCESSORIES', 'FLORAL BALLOONS',\n",
       "       'INFANT CARE PRODUCTS', 'FRZN ICE', 'BUTTER',\n",
       "       'VALUE ADDED VEGETABLES', 'SINUS AND ALLERGY', 'UNKNOWN',\n",
       "       'STONE FRUIT', 'SEAFOOD - MISC', 'PAPER HOUSEWARES',\n",
       "       'CONDIMENTS/SAUCES', 'MEAT - SHELF STABLE', 'CANDY - CHECKLANE',\n",
       "       'PET CARE SUPPLIES', 'FLORAL-FOLIAGE PLANTS', 'BAKING NEEDS',\n",
       "       'DINNER MXS:DRY', 'WAREHOUSE SNACKS', 'VITAMINS',\n",
       "       'FRZN JCE CONC/DRNKS', 'WATCHES/CALCULATORS/LOBBY',\n",
       "       'FALL AND WINTER SEASONAL', 'CAT LITTER', 'COOKIES/CONES',\n",
       "       'CHEESES', 'SOUP', 'NO COMMODITY DESCRIPTION',\n",
       "       'DRY BN/VEG/POTATO/RICE', 'BREAD', 'HOUSEHOLD CLEANG NEEDS',\n",
       "       'SUNTAN', 'BLEACH', 'BATH', 'PREPARED FOOD', 'CEREAL/BREAKFAST',\n",
       "       'SNACK NUTS', 'BAKING MIXES', 'SNKS/CKYS/CRKR/CNDY',\n",
       "       'FILM AND CAMERA PRODUCTS', 'BIRD SEED', 'LAUNDRY DETERGENTS',\n",
       "       'LAMB', 'WATER - CARBONATED/FLVRD DRINK', 'DISHWASH DETERGENTS',\n",
       "       'SPICES & EXTRACTS', 'WATER', 'TEAS', 'GLASSES/VISION AIDS',\n",
       "       'PNT BTR/JELLY/JAMS', 'CAKES', 'AIR CARE', 'COUPONS/STORE & MFG',\n",
       "       'FLOUR & MEALS', 'PAPER TOWELS', 'FLORAL-ACCESSORIES', 'SEASONAL',\n",
       "       'DRY SAUCES/GRAVY', 'POPCORN', 'FLORAL- HARD GOODS', 'ROLLS',\n",
       "       'SALADS/DIPS', 'COSMETIC ACCESSORIES', 'SHORTENING/OIL',\n",
       "       'CHRISTMAS  SEASONAL', 'PLASTIC HOUSEWARES', 'COCOA MIXES',\n",
       "       'SUGARS/SWEETNERS', 'EXOTIC GAME/FOWL', '(CORP USE ONLY)',\n",
       "       'ADULT INCONTINENCE', 'BABYFOOD', 'FRZN SEAFOOD', 'HALLOWEEN',\n",
       "       'FROZEN CHICKEN', 'LAUNDRY ADDITIVES', 'VALENTINE',\n",
       "       'DOMESTIC GOODS', 'BAKING', 'BEANS - CANNED GLASS & MW',\n",
       "       'PREPARED/PKGD FOODS', 'CHIPS&SNACKS', 'PERSONAL CARE APPLIANCES',\n",
       "       'OLIVES', 'PIES', 'PWDR/CRYSTL DRNK MX', 'FITNESS&DIET',\n",
       "       'FRAGRANCES', 'BATTERIES', 'HOME FREEZING & CANNING SUPPLY',\n",
       "       'NATURAL HBC', 'GIFT & FRUIT BASKETS', 'SEAFOOD - SHELF STABLE',\n",
       "       'PACKAGED NATURAL SNACKS', 'RW FRESH PROCESSED MEAT'], dtype=object)"
      ]
     },
     "execution_count": 124,
     "metadata": {},
     "output_type": "execute_result"
    }
   ],
   "source": [
    "df_data['COMMODITY_DESC'].unique()"
   ]
  },
  {
   "cell_type": "markdown",
   "metadata": {},
   "source": [
    "Here's the list of commodities to include in produce:\n",
    "\n",
    "['GRAPES', 'SALAD MIX', 'MELONS', 'TOMATOES', 'VEGETABLES - ALL OTHERS', 'TROPICAL FRUIT','SALAD BAR', 'REFRGRATD JUICES/DRNKS', 'FRUIT - SHELF STABLE','BERRIES','BROCCOLI/CAULIFLOWER','CITRUS','APPLES', 'VEGETABLES SALAD', 'PEPPERS-ALL', 'CARROTS', 'POTATOES', 'ONIONS','FRZN VEGETABLE/VEG DSH', 'VALUE ADDED FRUIT', 'JUICE','PEARS','ORGANICS FRUIT & VEGETABLES','CORN','MUSHROOMS', 'HERBS', 'CANNED JUICES', 'SQUASH', 'VEGETABLES - SHELF STABLE', 'VALUE ADDED VEGETABLES', 'STONE FRUIT', 'FRZN JCE CONC/DRNKS', 'SALADS/DIPS','GIFT & FRUIT BASKETS']"
   ]
  },
  {
   "cell_type": "code",
   "execution_count": 125,
   "metadata": {},
   "outputs": [],
   "source": [
    "produce_list=['GRAPES', 'SALAD MIX', 'MELONS', 'TOMATOES', 'VEGETABLES - ALL OTHERS', 'TROPICAL FRUIT','SALAD BAR', 'REFRGRATD JUICES/DRNKS', 'FRUIT - SHELF STABLE','BERRIES','BROCCOLI/CAULIFLOWER','CITRUS','APPLES', 'VEGETABLES SALAD', 'PEPPERS-ALL', 'CARROTS', 'POTATOES', 'ONIONS','FRZN VEGETABLE/VEG DSH', 'VALUE ADDED FRUIT', 'JUICE','PEARS','ORGANICS FRUIT & VEGETABLES','CORN','MUSHROOMS', 'HERBS', 'CANNED JUICES', 'SQUASH', 'VEGETABLES - SHELF STABLE', 'VALUE ADDED VEGETABLES', 'STONE FRUIT', 'FRZN JCE CONC/DRNKS', 'SALADS/DIPS','GIFT & FRUIT BASKETS']"
   ]
  },
  {
   "cell_type": "code",
   "execution_count": 126,
   "metadata": {},
   "outputs": [],
   "source": [
    "df_data=df_data[df_data['COMMODITY_DESC'].isin(produce_list)]"
   ]
  },
  {
   "cell_type": "markdown",
   "metadata": {},
   "source": [
    "Let's take a look at the most frequent sub-commodities in the dataset."
   ]
  },
  {
   "cell_type": "code",
   "execution_count": 127,
   "metadata": {},
   "outputs": [
    {
     "data": {
      "text/plain": [
       "BANANAS                           3274\n",
       "DAIRY CASE 100% PURE JUICE - O    2063\n",
       "FRZN BAGGED VEGETABLES - PLAIN    1284\n",
       "STRAWBERRIES                      1031\n",
       "CARROTS MINI PEELED                871\n",
       "                                  ... \n",
       "PROCESSED SALAD                      1\n",
       "FRUIT PARTY TRAY                     1\n",
       "VEG JUICE (EXCEPT TOMATO) (50%       1\n",
       "ORGANIC MUSHROOMS                    1\n",
       "VEGETABLE SALADS - PREPACK           1\n",
       "Name: SUB_COMMODITY_DESC, Length: 208, dtype: int64"
      ]
     },
     "execution_count": 127,
     "metadata": {},
     "output_type": "execute_result"
    }
   ],
   "source": [
    "df_data['SUB_COMMODITY_DESC'].value_counts()"
   ]
  },
  {
   "cell_type": "code",
   "execution_count": 128,
   "metadata": {},
   "outputs": [
    {
     "data": {
      "text/plain": [
       "array(['QUANTITY', 'SALES_VALUE', 'STORE_ID', 'RETAIL_DISC', 'TRANS_TIME',\n",
       "       'COUPON_DISC', 'COUPON_MATCH_DISC', 'description', 'CAMPAIGN',\n",
       "       'DAY', 'AGE_DESC', 'MARITAL_STATUS_CODE', 'INCOME_DESC',\n",
       "       'HOMEOWNER_DESC', 'HH_COMP_DESC', 'HOUSEHOLD_SIZE_DESC',\n",
       "       'KID_CATEGORY_DESC', 'MANUFACTURER', 'DEPARTMENT', 'BRAND',\n",
       "       'COMMODITY_DESC', 'SUB_COMMODITY_DESC', 'CURR_SIZE_OF_PRODUCT',\n",
       "       'NUM_DAYS', 'DISCOUNT_PCT'], dtype=object)"
      ]
     },
     "execution_count": 128,
     "metadata": {},
     "output_type": "execute_result"
    }
   ],
   "source": [
    "df_data.columns.values"
   ]
  },
  {
   "cell_type": "code",
   "execution_count": 129,
   "metadata": {},
   "outputs": [
    {
     "name": "stderr",
     "output_type": "stream",
     "text": [
      "/home/user-1711/venv/lib/python3.8/site-packages/pandas/core/frame.py:4167: SettingWithCopyWarning: \n",
      "A value is trying to be set on a copy of a slice from a DataFrame\n",
      "\n",
      "See the caveats in the documentation: https://pandas.pydata.org/pandas-docs/stable/user_guide/indexing.html#returning-a-view-versus-a-copy\n",
      "  return super().drop(\n"
     ]
    }
   ],
   "source": [
    "df_data.drop(['TRANS_TIME','AGE_DESC', 'MARITAL_STATUS_CODE', 'INCOME_DESC', 'HOMEOWNER_DESC', 'HH_COMP_DESC', 'HOUSEHOLD_SIZE_DESC','KID_CATEGORY_DESC', 'DEPARTMENT', 'COMMODITY_DESC','DISCOUNT_PCT'], axis=1, inplace=True)"
   ]
  },
  {
   "cell_type": "code",
   "execution_count": 130,
   "metadata": {},
   "outputs": [
    {
     "data": {
      "text/html": [
       "<div>\n",
       "<style scoped>\n",
       "    .dataframe tbody tr th:only-of-type {\n",
       "        vertical-align: middle;\n",
       "    }\n",
       "\n",
       "    .dataframe tbody tr th {\n",
       "        vertical-align: top;\n",
       "    }\n",
       "\n",
       "    .dataframe thead th {\n",
       "        text-align: right;\n",
       "    }\n",
       "</style>\n",
       "<table border=\"1\" class=\"dataframe\">\n",
       "  <thead>\n",
       "    <tr style=\"text-align: right;\">\n",
       "      <th></th>\n",
       "      <th>QUANTITY</th>\n",
       "      <th>SALES_VALUE</th>\n",
       "      <th>STORE_ID</th>\n",
       "      <th>RETAIL_DISC</th>\n",
       "      <th>COUPON_DISC</th>\n",
       "      <th>COUPON_MATCH_DISC</th>\n",
       "      <th>description</th>\n",
       "      <th>CAMPAIGN</th>\n",
       "      <th>DAY</th>\n",
       "      <th>MANUFACTURER</th>\n",
       "      <th>BRAND</th>\n",
       "      <th>SUB_COMMODITY_DESC</th>\n",
       "      <th>CURR_SIZE_OF_PRODUCT</th>\n",
       "      <th>NUM_DAYS</th>\n",
       "    </tr>\n",
       "  </thead>\n",
       "  <tbody>\n",
       "    <tr>\n",
       "      <th>7</th>\n",
       "      <td>1</td>\n",
       "      <td>1.45</td>\n",
       "      <td>414</td>\n",
       "      <td>0.00</td>\n",
       "      <td>0.0</td>\n",
       "      <td>0.0</td>\n",
       "      <td>TypeA</td>\n",
       "      <td>18</td>\n",
       "      <td>599</td>\n",
       "      <td>2</td>\n",
       "      <td>National</td>\n",
       "      <td>GRAPES RED</td>\n",
       "      <td>18 LB</td>\n",
       "      <td>56</td>\n",
       "    </tr>\n",
       "    <tr>\n",
       "      <th>8</th>\n",
       "      <td>1</td>\n",
       "      <td>1.49</td>\n",
       "      <td>414</td>\n",
       "      <td>-0.50</td>\n",
       "      <td>0.0</td>\n",
       "      <td>0.0</td>\n",
       "      <td>TypeA</td>\n",
       "      <td>18</td>\n",
       "      <td>599</td>\n",
       "      <td>2</td>\n",
       "      <td>National</td>\n",
       "      <td>GRAPES RED</td>\n",
       "      <td>18 LB</td>\n",
       "      <td>56</td>\n",
       "    </tr>\n",
       "    <tr>\n",
       "      <th>9</th>\n",
       "      <td>1</td>\n",
       "      <td>4.28</td>\n",
       "      <td>414</td>\n",
       "      <td>0.00</td>\n",
       "      <td>0.0</td>\n",
       "      <td>0.0</td>\n",
       "      <td>TypeA</td>\n",
       "      <td>18</td>\n",
       "      <td>599</td>\n",
       "      <td>2</td>\n",
       "      <td>National</td>\n",
       "      <td>GRAPES RED</td>\n",
       "      <td>18 LB</td>\n",
       "      <td>56</td>\n",
       "    </tr>\n",
       "    <tr>\n",
       "      <th>10</th>\n",
       "      <td>1</td>\n",
       "      <td>2.08</td>\n",
       "      <td>414</td>\n",
       "      <td>-1.47</td>\n",
       "      <td>0.0</td>\n",
       "      <td>0.0</td>\n",
       "      <td>TypeA</td>\n",
       "      <td>18</td>\n",
       "      <td>599</td>\n",
       "      <td>2</td>\n",
       "      <td>National</td>\n",
       "      <td>GRAPES RED</td>\n",
       "      <td>18 LB</td>\n",
       "      <td>56</td>\n",
       "    </tr>\n",
       "    <tr>\n",
       "      <th>11</th>\n",
       "      <td>1</td>\n",
       "      <td>1.84</td>\n",
       "      <td>414</td>\n",
       "      <td>-1.27</td>\n",
       "      <td>0.0</td>\n",
       "      <td>0.0</td>\n",
       "      <td>TypeA</td>\n",
       "      <td>18</td>\n",
       "      <td>599</td>\n",
       "      <td>2</td>\n",
       "      <td>National</td>\n",
       "      <td>GRAPES RED</td>\n",
       "      <td>18 LB</td>\n",
       "      <td>56</td>\n",
       "    </tr>\n",
       "    <tr>\n",
       "      <th>...</th>\n",
       "      <td>...</td>\n",
       "      <td>...</td>\n",
       "      <td>...</td>\n",
       "      <td>...</td>\n",
       "      <td>...</td>\n",
       "      <td>...</td>\n",
       "      <td>...</td>\n",
       "      <td>...</td>\n",
       "      <td>...</td>\n",
       "      <td>...</td>\n",
       "      <td>...</td>\n",
       "      <td>...</td>\n",
       "      <td>...</td>\n",
       "      <td>...</td>\n",
       "    </tr>\n",
       "    <tr>\n",
       "      <th>111964</th>\n",
       "      <td>1</td>\n",
       "      <td>1.67</td>\n",
       "      <td>420</td>\n",
       "      <td>-0.12</td>\n",
       "      <td>0.0</td>\n",
       "      <td>0.0</td>\n",
       "      <td>TypeA</td>\n",
       "      <td>8</td>\n",
       "      <td>424</td>\n",
       "      <td>282</td>\n",
       "      <td>National</td>\n",
       "      <td>FRZN BOXED VEGETABLES- VALUE A</td>\n",
       "      <td>10OZ</td>\n",
       "      <td>49</td>\n",
       "    </tr>\n",
       "    <tr>\n",
       "      <th>111971</th>\n",
       "      <td>1</td>\n",
       "      <td>1.12</td>\n",
       "      <td>389</td>\n",
       "      <td>0.00</td>\n",
       "      <td>0.0</td>\n",
       "      <td>0.0</td>\n",
       "      <td>TypeA</td>\n",
       "      <td>18</td>\n",
       "      <td>606</td>\n",
       "      <td>2</td>\n",
       "      <td>National</td>\n",
       "      <td>POTATOES RED (BULK&amp;BAG)</td>\n",
       "      <td></td>\n",
       "      <td>56</td>\n",
       "    </tr>\n",
       "    <tr>\n",
       "      <th>111972</th>\n",
       "      <td>0</td>\n",
       "      <td>0.00</td>\n",
       "      <td>389</td>\n",
       "      <td>0.00</td>\n",
       "      <td>0.0</td>\n",
       "      <td>0.0</td>\n",
       "      <td>TypeA</td>\n",
       "      <td>18</td>\n",
       "      <td>606</td>\n",
       "      <td>2</td>\n",
       "      <td>National</td>\n",
       "      <td>PEACHES YELLOW FLESH</td>\n",
       "      <td>64 CT</td>\n",
       "      <td>56</td>\n",
       "    </tr>\n",
       "    <tr>\n",
       "      <th>111992</th>\n",
       "      <td>1</td>\n",
       "      <td>3.67</td>\n",
       "      <td>404</td>\n",
       "      <td>0.00</td>\n",
       "      <td>0.0</td>\n",
       "      <td>0.0</td>\n",
       "      <td>TypeA</td>\n",
       "      <td>18</td>\n",
       "      <td>598</td>\n",
       "      <td>2</td>\n",
       "      <td>National</td>\n",
       "      <td>APPLES OTHER (BULK&amp;BAG)</td>\n",
       "      <td></td>\n",
       "      <td>56</td>\n",
       "    </tr>\n",
       "    <tr>\n",
       "      <th>112010</th>\n",
       "      <td>1</td>\n",
       "      <td>2.99</td>\n",
       "      <td>306</td>\n",
       "      <td>0.00</td>\n",
       "      <td>0.0</td>\n",
       "      <td>0.0</td>\n",
       "      <td>TypeA</td>\n",
       "      <td>13</td>\n",
       "      <td>507</td>\n",
       "      <td>1633</td>\n",
       "      <td>National</td>\n",
       "      <td>SALAD SPINACH</td>\n",
       "      <td>6 OZ</td>\n",
       "      <td>48</td>\n",
       "    </tr>\n",
       "  </tbody>\n",
       "</table>\n",
       "<p>34498 rows × 14 columns</p>\n",
       "</div>"
      ],
      "text/plain": [
       "        QUANTITY  SALES_VALUE  STORE_ID  RETAIL_DISC  COUPON_DISC  \\\n",
       "7              1         1.45       414         0.00          0.0   \n",
       "8              1         1.49       414        -0.50          0.0   \n",
       "9              1         4.28       414         0.00          0.0   \n",
       "10             1         2.08       414        -1.47          0.0   \n",
       "11             1         1.84       414        -1.27          0.0   \n",
       "...          ...          ...       ...          ...          ...   \n",
       "111964         1         1.67       420        -0.12          0.0   \n",
       "111971         1         1.12       389         0.00          0.0   \n",
       "111972         0         0.00       389         0.00          0.0   \n",
       "111992         1         3.67       404         0.00          0.0   \n",
       "112010         1         2.99       306         0.00          0.0   \n",
       "\n",
       "        COUPON_MATCH_DISC description  CAMPAIGN  DAY  MANUFACTURER     BRAND  \\\n",
       "7                     0.0       TypeA        18  599             2  National   \n",
       "8                     0.0       TypeA        18  599             2  National   \n",
       "9                     0.0       TypeA        18  599             2  National   \n",
       "10                    0.0       TypeA        18  599             2  National   \n",
       "11                    0.0       TypeA        18  599             2  National   \n",
       "...                   ...         ...       ...  ...           ...       ...   \n",
       "111964                0.0       TypeA         8  424           282  National   \n",
       "111971                0.0       TypeA        18  606             2  National   \n",
       "111972                0.0       TypeA        18  606             2  National   \n",
       "111992                0.0       TypeA        18  598             2  National   \n",
       "112010                0.0       TypeA        13  507          1633  National   \n",
       "\n",
       "                    SUB_COMMODITY_DESC CURR_SIZE_OF_PRODUCT  NUM_DAYS  \n",
       "7                           GRAPES RED                18 LB        56  \n",
       "8                           GRAPES RED                18 LB        56  \n",
       "9                           GRAPES RED                18 LB        56  \n",
       "10                          GRAPES RED                18 LB        56  \n",
       "11                          GRAPES RED                18 LB        56  \n",
       "...                                ...                  ...       ...  \n",
       "111964  FRZN BOXED VEGETABLES- VALUE A                 10OZ        49  \n",
       "111971         POTATOES RED (BULK&BAG)                             56  \n",
       "111972            PEACHES YELLOW FLESH                64 CT        56  \n",
       "111992         APPLES OTHER (BULK&BAG)                             56  \n",
       "112010                   SALAD SPINACH                 6 OZ        48  \n",
       "\n",
       "[34498 rows x 14 columns]"
      ]
     },
     "execution_count": 130,
     "metadata": {},
     "output_type": "execute_result"
    }
   ],
   "source": [
    "df_data"
   ]
  },
  {
   "cell_type": "code",
   "execution_count": 131,
   "metadata": {},
   "outputs": [
    {
     "data": {
      "text/plain": [
       "            7285\n",
       "40 LB       4260\n",
       "16 OZ       2182\n",
       "1 LB        1654\n",
       "18 LB       1469\n",
       "            ... \n",
       "450ML          1\n",
       "20 LBS         1\n",
       "7.25 LBS       1\n",
       ".35 OZ         1\n",
       "13.5 OZ        1\n",
       "Name: CURR_SIZE_OF_PRODUCT, Length: 181, dtype: int64"
      ]
     },
     "execution_count": 131,
     "metadata": {},
     "output_type": "execute_result"
    }
   ],
   "source": [
    "df_data['CURR_SIZE_OF_PRODUCT'].value_counts()"
   ]
  },
  {
   "cell_type": "markdown",
   "metadata": {},
   "source": [
    "# The section below is from the notebook analyzing liquid milk products. Needs to be updated with data relevant to produce."
   ]
  },
  {
   "cell_type": "code",
   "execution_count": 21,
   "metadata": {},
   "outputs": [],
   "source": [
    "def label_to_volume(label):\n",
    "    volume=int()\n",
    "    if label=='1 GA':\n",
    "        volume=128\n",
    "    elif label=='1 PT':\n",
    "        volume=16\n",
    "    elif label=='16 OZ':\n",
    "        volume=16\n",
    "    elif label=='1 QT':\n",
    "        volume=32\n",
    "    elif label=='PT':\n",
    "        volume=16\n",
    "        \n",
    "    return volume\n",
    "\n",
    "vect_label_to_volume=np.vectorize(label_to_volume)"
   ]
  },
  {
   "cell_type": "code",
   "execution_count": 22,
   "metadata": {},
   "outputs": [
    {
     "name": "stderr",
     "output_type": "stream",
     "text": [
      "<ipython-input-22-8553da09263f>:1: SettingWithCopyWarning: \n",
      "A value is trying to be set on a copy of a slice from a DataFrame.\n",
      "Try using .loc[row_indexer,col_indexer] = value instead\n",
      "\n",
      "See the caveats in the documentation: https://pandas.pydata.org/pandas-docs/stable/user_guide/indexing.html#returning-a-view-versus-a-copy\n",
      "  df_data['VOLUME']=vect_label_to_volume(df_data['CURR_SIZE_OF_PRODUCT'])\n"
     ]
    },
    {
     "data": {
      "text/html": [
       "<div>\n",
       "<style scoped>\n",
       "    .dataframe tbody tr th:only-of-type {\n",
       "        vertical-align: middle;\n",
       "    }\n",
       "\n",
       "    .dataframe tbody tr th {\n",
       "        vertical-align: top;\n",
       "    }\n",
       "\n",
       "    .dataframe thead th {\n",
       "        text-align: right;\n",
       "    }\n",
       "</style>\n",
       "<table border=\"1\" class=\"dataframe\">\n",
       "  <thead>\n",
       "    <tr style=\"text-align: right;\">\n",
       "      <th></th>\n",
       "      <th>QUANTITY</th>\n",
       "      <th>SALES_VALUE</th>\n",
       "      <th>STORE_ID</th>\n",
       "      <th>RETAIL_DISC</th>\n",
       "      <th>COUPON_DISC</th>\n",
       "      <th>COUPON_MATCH_DISC</th>\n",
       "      <th>description</th>\n",
       "      <th>CAMPAIGN</th>\n",
       "      <th>DAY</th>\n",
       "      <th>MANUFACTURER</th>\n",
       "      <th>BRAND</th>\n",
       "      <th>SUB_COMMODITY_DESC</th>\n",
       "      <th>CURR_SIZE_OF_PRODUCT</th>\n",
       "      <th>NUM_DAYS</th>\n",
       "      <th>VOLUME</th>\n",
       "    </tr>\n",
       "  </thead>\n",
       "  <tbody>\n",
       "    <tr>\n",
       "      <th>72</th>\n",
       "      <td>1</td>\n",
       "      <td>2.49</td>\n",
       "      <td>414</td>\n",
       "      <td>0.00</td>\n",
       "      <td>0.0</td>\n",
       "      <td>0.0</td>\n",
       "      <td>TypeA</td>\n",
       "      <td>13</td>\n",
       "      <td>510</td>\n",
       "      <td>69</td>\n",
       "      <td>Private</td>\n",
       "      <td>FLUID MILK WHITE ONLY</td>\n",
       "      <td>1 GA</td>\n",
       "      <td>48</td>\n",
       "      <td>128</td>\n",
       "    </tr>\n",
       "    <tr>\n",
       "      <th>73</th>\n",
       "      <td>1</td>\n",
       "      <td>2.49</td>\n",
       "      <td>414</td>\n",
       "      <td>0.00</td>\n",
       "      <td>0.0</td>\n",
       "      <td>0.0</td>\n",
       "      <td>TypeA</td>\n",
       "      <td>13</td>\n",
       "      <td>510</td>\n",
       "      <td>69</td>\n",
       "      <td>Private</td>\n",
       "      <td>FLUID MILK WHITE ONLY</td>\n",
       "      <td>1 GA</td>\n",
       "      <td>48</td>\n",
       "      <td>128</td>\n",
       "    </tr>\n",
       "    <tr>\n",
       "      <th>74</th>\n",
       "      <td>1</td>\n",
       "      <td>2.49</td>\n",
       "      <td>414</td>\n",
       "      <td>0.00</td>\n",
       "      <td>0.0</td>\n",
       "      <td>0.0</td>\n",
       "      <td>TypeA</td>\n",
       "      <td>13</td>\n",
       "      <td>510</td>\n",
       "      <td>69</td>\n",
       "      <td>Private</td>\n",
       "      <td>FLUID MILK WHITE ONLY</td>\n",
       "      <td>1 GA</td>\n",
       "      <td>48</td>\n",
       "      <td>128</td>\n",
       "    </tr>\n",
       "    <tr>\n",
       "      <th>75</th>\n",
       "      <td>1</td>\n",
       "      <td>2.49</td>\n",
       "      <td>414</td>\n",
       "      <td>0.00</td>\n",
       "      <td>0.0</td>\n",
       "      <td>0.0</td>\n",
       "      <td>TypeA</td>\n",
       "      <td>13</td>\n",
       "      <td>510</td>\n",
       "      <td>69</td>\n",
       "      <td>Private</td>\n",
       "      <td>FLUID MILK WHITE ONLY</td>\n",
       "      <td>1 GA</td>\n",
       "      <td>48</td>\n",
       "      <td>128</td>\n",
       "    </tr>\n",
       "    <tr>\n",
       "      <th>76</th>\n",
       "      <td>1</td>\n",
       "      <td>1.67</td>\n",
       "      <td>414</td>\n",
       "      <td>-0.82</td>\n",
       "      <td>0.0</td>\n",
       "      <td>0.0</td>\n",
       "      <td>TypeA</td>\n",
       "      <td>13</td>\n",
       "      <td>510</td>\n",
       "      <td>69</td>\n",
       "      <td>Private</td>\n",
       "      <td>FLUID MILK WHITE ONLY</td>\n",
       "      <td>1 GA</td>\n",
       "      <td>48</td>\n",
       "      <td>128</td>\n",
       "    </tr>\n",
       "  </tbody>\n",
       "</table>\n",
       "</div>"
      ],
      "text/plain": [
       "    QUANTITY  SALES_VALUE  STORE_ID  RETAIL_DISC  COUPON_DISC  \\\n",
       "72         1         2.49       414         0.00          0.0   \n",
       "73         1         2.49       414         0.00          0.0   \n",
       "74         1         2.49       414         0.00          0.0   \n",
       "75         1         2.49       414         0.00          0.0   \n",
       "76         1         1.67       414        -0.82          0.0   \n",
       "\n",
       "    COUPON_MATCH_DISC description  CAMPAIGN  DAY  MANUFACTURER    BRAND  \\\n",
       "72                0.0       TypeA        13  510            69  Private   \n",
       "73                0.0       TypeA        13  510            69  Private   \n",
       "74                0.0       TypeA        13  510            69  Private   \n",
       "75                0.0       TypeA        13  510            69  Private   \n",
       "76                0.0       TypeA        13  510            69  Private   \n",
       "\n",
       "       SUB_COMMODITY_DESC CURR_SIZE_OF_PRODUCT  NUM_DAYS  VOLUME  \n",
       "72  FLUID MILK WHITE ONLY                 1 GA        48     128  \n",
       "73  FLUID MILK WHITE ONLY                 1 GA        48     128  \n",
       "74  FLUID MILK WHITE ONLY                 1 GA        48     128  \n",
       "75  FLUID MILK WHITE ONLY                 1 GA        48     128  \n",
       "76  FLUID MILK WHITE ONLY                 1 GA        48     128  "
      ]
     },
     "execution_count": 22,
     "metadata": {},
     "output_type": "execute_result"
    }
   ],
   "source": [
    "df_data['VOLUME']=vect_label_to_volume(df_data['CURR_SIZE_OF_PRODUCT'])\n",
    "df_data.head()"
   ]
  },
  {
   "cell_type": "code",
   "execution_count": 23,
   "metadata": {},
   "outputs": [
    {
     "data": {
      "text/html": [
       "<div>\n",
       "<style scoped>\n",
       "    .dataframe tbody tr th:only-of-type {\n",
       "        vertical-align: middle;\n",
       "    }\n",
       "\n",
       "    .dataframe tbody tr th {\n",
       "        vertical-align: top;\n",
       "    }\n",
       "\n",
       "    .dataframe thead th {\n",
       "        text-align: right;\n",
       "    }\n",
       "</style>\n",
       "<table border=\"1\" class=\"dataframe\">\n",
       "  <thead>\n",
       "    <tr style=\"text-align: right;\">\n",
       "      <th></th>\n",
       "      <th>QUANTITY</th>\n",
       "      <th>SALES_VALUE</th>\n",
       "      <th>STORE_ID</th>\n",
       "      <th>RETAIL_DISC</th>\n",
       "      <th>COUPON_DISC</th>\n",
       "      <th>COUPON_MATCH_DISC</th>\n",
       "      <th>DAY</th>\n",
       "      <th>MANUFACTURER</th>\n",
       "      <th>NUM_DAYS</th>\n",
       "      <th>VOLUME</th>\n",
       "    </tr>\n",
       "    <tr>\n",
       "      <th>CAMPAIGN</th>\n",
       "      <th></th>\n",
       "      <th></th>\n",
       "      <th></th>\n",
       "      <th></th>\n",
       "      <th></th>\n",
       "      <th></th>\n",
       "      <th></th>\n",
       "      <th></th>\n",
       "      <th></th>\n",
       "      <th></th>\n",
       "    </tr>\n",
       "  </thead>\n",
       "  <tbody>\n",
       "    <tr>\n",
       "      <th>8</th>\n",
       "      <td>4414</td>\n",
       "      <td>7395.21</td>\n",
       "      <td>11526800</td>\n",
       "      <td>-2260.05</td>\n",
       "      <td>-6.09</td>\n",
       "      <td>-1.40</td>\n",
       "      <td>1038395</td>\n",
       "      <td>253625</td>\n",
       "      <td>119119</td>\n",
       "      <td>165888</td>\n",
       "    </tr>\n",
       "    <tr>\n",
       "      <th>13</th>\n",
       "      <td>2651</td>\n",
       "      <td>4388.69</td>\n",
       "      <td>5413378</td>\n",
       "      <td>-1344.57</td>\n",
       "      <td>-7.52</td>\n",
       "      <td>-0.45</td>\n",
       "      <td>839104</td>\n",
       "      <td>235690</td>\n",
       "      <td>78096</td>\n",
       "      <td>88576</td>\n",
       "    </tr>\n",
       "    <tr>\n",
       "      <th>18</th>\n",
       "      <td>1474</td>\n",
       "      <td>2299.86</td>\n",
       "      <td>917666</td>\n",
       "      <td>-798.35</td>\n",
       "      <td>-4.54</td>\n",
       "      <td>-1.45</td>\n",
       "      <td>419973</td>\n",
       "      <td>71762</td>\n",
       "      <td>39032</td>\n",
       "      <td>42960</td>\n",
       "    </tr>\n",
       "  </tbody>\n",
       "</table>\n",
       "</div>"
      ],
      "text/plain": [
       "          QUANTITY  SALES_VALUE  STORE_ID  RETAIL_DISC  COUPON_DISC  \\\n",
       "CAMPAIGN                                                              \n",
       "8             4414      7395.21  11526800     -2260.05        -6.09   \n",
       "13            2651      4388.69   5413378     -1344.57        -7.52   \n",
       "18            1474      2299.86    917666      -798.35        -4.54   \n",
       "\n",
       "          COUPON_MATCH_DISC      DAY  MANUFACTURER  NUM_DAYS  VOLUME  \n",
       "CAMPAIGN                                                              \n",
       "8                     -1.40  1038395        253625    119119  165888  \n",
       "13                    -0.45   839104        235690     78096   88576  \n",
       "18                    -1.45   419973         71762     39032   42960  "
      ]
     },
     "execution_count": 23,
     "metadata": {},
     "output_type": "execute_result"
    }
   ],
   "source": [
    "df_data.groupby('CAMPAIGN').sum()"
   ]
  },
  {
   "cell_type": "code",
   "execution_count": 24,
   "metadata": {},
   "outputs": [],
   "source": [
    "df_data=df_data[(df_data['SALES_VALUE']<=8)&(df_data['SALES_VALUE']>0)]"
   ]
  },
  {
   "cell_type": "code",
   "execution_count": 25,
   "metadata": {},
   "outputs": [],
   "source": [
    "sales=df_data['SALES_VALUE']"
   ]
  },
  {
   "cell_type": "code",
   "execution_count": 26,
   "metadata": {},
   "outputs": [],
   "source": [
    "df_data_features=df_data.drop('SALES_VALUE', axis=1)"
   ]
  },
  {
   "cell_type": "code",
   "execution_count": 27,
   "metadata": {},
   "outputs": [
    {
     "data": {
      "text/plain": [
       "Index([             'QUANTITY',              'STORE_ID',\n",
       "                 'RETAIL_DISC',           'COUPON_DISC',\n",
       "           'COUPON_MATCH_DISC',           'description',\n",
       "                    'CAMPAIGN',                   'DAY',\n",
       "                'MANUFACTURER',                 'BRAND',\n",
       "          'SUB_COMMODITY_DESC',  'CURR_SIZE_OF_PRODUCT',\n",
       "                    'NUM_DAYS',                'VOLUME',\n",
       "                     'Private', 'FLUID MILK WHITE ONLY',\n",
       "          'MISCELLANEOUS MILK',                     531,\n",
       "                           709,                     865,\n",
       "                           926,                     927,\n",
       "                          1078,                    1453,\n",
       "                          1487,                    1543,\n",
       "                          5423],\n",
       "      dtype='object')"
      ]
     },
     "execution_count": 27,
     "metadata": {},
     "output_type": "execute_result"
    }
   ],
   "source": [
    "dummy=pd.get_dummies(df_data_features['BRAND'],drop_first=True)\n",
    "dummy_milk_type=pd.get_dummies(df_data_features['SUB_COMMODITY_DESC'],drop_first=True)\n",
    "#dummy_hh_size_desc=pd.get_dummies(df_s_parent_features['HOUSEHOLD_SIZE_DESC'],drop_first=True)\n",
    "dummy_manufacturer=pd.get_dummies(df_data_features['MANUFACTURER'],drop_first=True)\n",
    "df_data_features=pd.concat([df_data_features,dummy], axis=1)\n",
    "df_data_features=pd.concat([df_data_features,dummy_milk_type], axis=1)\n",
    "#df_s_parent_features=pd.concat([df_s_parent_features,dummy_hh_size_desc], axis=1)\n",
    "df_data_features=pd.concat([df_data_features,dummy_manufacturer], axis=1)\n",
    "df_data_features.columns"
   ]
  },
  {
   "cell_type": "code",
   "execution_count": 28,
   "metadata": {},
   "outputs": [],
   "source": [
    "df_data_features.drop(['STORE_ID','QUANTITY','BRAND','description','MANUFACTURER','CURR_SIZE_OF_PRODUCT','SUB_COMMODITY_DESC', 'CAMPAIGN', 'NUM_DAYS'], axis=1, inplace=True)"
   ]
  },
  {
   "cell_type": "markdown",
   "metadata": {},
   "source": [
    "We want to include variables that are not strongly correlated. Seaborn's heatmap method is perfect for visualizing the inter-relationships between variables."
   ]
  },
  {
   "cell_type": "code",
   "execution_count": 29,
   "metadata": {},
   "outputs": [
    {
     "data": {
      "text/plain": [
       "<AxesSubplot:>"
      ]
     },
     "execution_count": 29,
     "metadata": {},
     "output_type": "execute_result"
    },
    {
     "data": {
      "image/png": "[encoded data removed]",
      "text/plain": [
       "<Figure size 432x288 with 2 Axes>"
      ]
     },
     "metadata": {
      "needs_background": "light"
     },
     "output_type": "display_data"
    }
   ],
   "source": [
    "sns.heatmap(df_data_features.corr())"
   ]
  },
  {
   "cell_type": "code",
   "execution_count": 30,
   "metadata": {},
   "outputs": [
    {
     "data": {
      "text/plain": [
       "array(['RETAIL_DISC', 'COUPON_DISC', 'COUPON_MATCH_DISC', 'DAY', 'VOLUME',\n",
       "       'Private', 'FLUID MILK WHITE ONLY', 'MISCELLANEOUS MILK', 531, 709,\n",
       "       865, 926, 927, 1078, 1453, 1487, 1543, 5423], dtype=object)"
      ]
     },
     "execution_count": 30,
     "metadata": {},
     "output_type": "execute_result"
    }
   ],
   "source": [
    "df_data_features.columns.values"
   ]
  },
  {
   "cell_type": "code",
   "execution_count": 31,
   "metadata": {},
   "outputs": [],
   "source": [
    "X=df_data_features\n",
    "y=sales"
   ]
  },
  {
   "cell_type": "code",
   "execution_count": 32,
   "metadata": {},
   "outputs": [],
   "source": [
    "X_train,X_test,y_train,y_test=train_test_split(X, y, random_state = 22)"
   ]
  },
  {
   "cell_type": "markdown",
   "metadata": {},
   "source": [
    "Instantiate StandardScaler and save scaling data."
   ]
  },
  {
   "cell_type": "code",
   "execution_count": 33,
   "metadata": {},
   "outputs": [],
   "source": [
    "sscaler=StandardScaler()"
   ]
  },
  {
   "cell_type": "code",
   "execution_count": 34,
   "metadata": {},
   "outputs": [],
   "source": [
    "X_train_scaled=sscaler.fit_transform(X_train)\n",
    "dump(sscaler,'./models/scaler_file.save')\n",
    "\n",
    "X_test_scaled=sscaler.fit_transform(X_test)"
   ]
  },
  {
   "cell_type": "code",
   "execution_count": 35,
   "metadata": {},
   "outputs": [
    {
     "data": {
      "text/plain": [
       "array([[ 0.63391054,  0.0569051 ,  0.04942204, ..., -0.05089866,\n",
       "        -0.09780193, -0.04154065],\n",
       "       [ 0.63391054,  0.0569051 ,  0.04942204, ..., -0.05089866,\n",
       "        -0.09780193, -0.04154065],\n",
       "       [ 0.63391054,  0.0569051 ,  0.04942204, ..., -0.05089866,\n",
       "        -0.09780193, -0.04154065],\n",
       "       ...,\n",
       "       [ 0.63391054,  0.0569051 ,  0.04942204, ..., -0.05089866,\n",
       "        10.22474716, -0.04154065],\n",
       "       [ 0.63391054,  0.0569051 ,  0.04942204, ..., -0.05089866,\n",
       "        -0.09780193, -0.04154065],\n",
       "       [ 0.63391054,  0.0569051 ,  0.04942204, ..., -0.05089866,\n",
       "        -0.09780193, -0.04154065]])"
      ]
     },
     "execution_count": 35,
     "metadata": {},
     "output_type": "execute_result"
    }
   ],
   "source": [
    "X_test_scaled"
   ]
  },
  {
   "cell_type": "code",
   "execution_count": 78,
   "metadata": {},
   "outputs": [],
   "source": [
    "neigh = KNeighborsRegressor(n_neighbors=7)"
   ]
  },
  {
   "cell_type": "code",
   "execution_count": 79,
   "metadata": {},
   "outputs": [
    {
     "data": {
      "text/plain": [
       "KNeighborsRegressor(n_neighbors=7)"
      ]
     },
     "execution_count": 79,
     "metadata": {},
     "output_type": "execute_result"
    }
   ],
   "source": [
    "neigh.fit(X_train_scaled, np.log(y_train))"
   ]
  },
  {
   "cell_type": "code",
   "execution_count": 80,
   "metadata": {},
   "outputs": [
    {
     "data": {
      "text/plain": [
       "<matplotlib.collections.PathCollection at 0x7fce4844c040>"
      ]
     },
     "execution_count": 80,
     "metadata": {},
     "output_type": "execute_result"
    },
    {
     "data": {
      "image/png": "[encoded data removed]",
      "text/plain": [
       "<Figure size 432x288 with 1 Axes>"
      ]
     },
     "metadata": {
      "needs_background": "light"
     },
     "output_type": "display_data"
    }
   ],
   "source": [
    "y_preds=neigh.predict(X_test_scaled)\n",
    "plt.scatter(y_test,np.exp(y_preds))"
   ]
  },
  {
   "cell_type": "code",
   "execution_count": 81,
   "metadata": {},
   "outputs": [
    {
     "data": {
      "text/plain": [
       "0.6847709254534265"
      ]
     },
     "execution_count": 81,
     "metadata": {},
     "output_type": "execute_result"
    }
   ],
   "source": [
    "np.mean(cross_val_score(neigh, X_test_scaled,np.log(y_test)))"
   ]
  },
  {
   "cell_type": "code",
   "execution_count": 82,
   "metadata": {},
   "outputs": [
    {
     "data": {
      "text/plain": [
       "Lasso(alpha=1e-05, max_iter=99999)"
      ]
     },
     "execution_count": 82,
     "metadata": {},
     "output_type": "execute_result"
    }
   ],
   "source": [
    "lasso=Lasso(alpha=0.00001,max_iter=99999)\n",
    "lasso.fit(X_train_scaled,np.log(y_train))"
   ]
  },
  {
   "cell_type": "code",
   "execution_count": 37,
   "metadata": {},
   "outputs": [
    {
     "data": {
      "text/plain": [
       "<matplotlib.collections.PathCollection at 0x7fce515ebfa0>"
      ]
     },
     "execution_count": 37,
     "metadata": {},
     "output_type": "execute_result"
    },
    {
     "data": {
      "image/png": "[encoded data removed]",
      "text/plain": [
       "<Figure size 432x288 with 1 Axes>"
      ]
     },
     "metadata": {
      "needs_background": "light"
     },
     "output_type": "display_data"
    }
   ],
   "source": [
    "y_preds=np.exp(lasso.predict(X_test_scaled))\n",
    "plt.scatter(y_test,y_preds)"
   ]
  },
  {
   "cell_type": "code",
   "execution_count": 38,
   "metadata": {},
   "outputs": [
    {
     "name": "stderr",
     "output_type": "stream",
     "text": [
      "/home/user-1711/venv/lib/python3.8/site-packages/seaborn/_decorators.py:36: FutureWarning: Pass the following variables as keyword args: x, y. From version 0.12, the only valid positional argument will be `data`, and passing other arguments without an explicit keyword will result in an error or misinterpretation.\n",
      "  warnings.warn(\n"
     ]
    },
    {
     "data": {
      "text/plain": [
       "<AxesSubplot:xlabel='SALES_VALUE'>"
      ]
     },
     "execution_count": 38,
     "metadata": {},
     "output_type": "execute_result"
    },
    {
     "data": {
      "image/png": "[encoded data removed]",
      "text/plain": [
       "<Figure size 432x288 with 1 Axes>"
      ]
     },
     "metadata": {
      "needs_background": "light"
     },
     "output_type": "display_data"
    }
   ],
   "source": [
    "sns.regplot(y_test,y_preds)"
   ]
  },
  {
   "cell_type": "code",
   "execution_count": 39,
   "metadata": {},
   "outputs": [
    {
     "data": {
      "text/html": [
       "<div>\n",
       "<style scoped>\n",
       "    .dataframe tbody tr th:only-of-type {\n",
       "        vertical-align: middle;\n",
       "    }\n",
       "\n",
       "    .dataframe tbody tr th {\n",
       "        vertical-align: top;\n",
       "    }\n",
       "\n",
       "    .dataframe thead th {\n",
       "        text-align: right;\n",
       "    }\n",
       "</style>\n",
       "<table border=\"1\" class=\"dataframe\">\n",
       "  <thead>\n",
       "    <tr style=\"text-align: right;\">\n",
       "      <th></th>\n",
       "      <th>features</th>\n",
       "      <th>coefs</th>\n",
       "    </tr>\n",
       "  </thead>\n",
       "  <tbody>\n",
       "    <tr>\n",
       "      <th>4</th>\n",
       "      <td>VOLUME</td>\n",
       "      <td>0.358467</td>\n",
       "    </tr>\n",
       "    <tr>\n",
       "      <th>16</th>\n",
       "      <td>1543</td>\n",
       "      <td>0.091982</td>\n",
       "    </tr>\n",
       "    <tr>\n",
       "      <th>7</th>\n",
       "      <td>MISCELLANEOUS MILK</td>\n",
       "      <td>0.073165</td>\n",
       "    </tr>\n",
       "    <tr>\n",
       "      <th>11</th>\n",
       "      <td>926</td>\n",
       "      <td>0.065984</td>\n",
       "    </tr>\n",
       "    <tr>\n",
       "      <th>12</th>\n",
       "      <td>927</td>\n",
       "      <td>0.054736</td>\n",
       "    </tr>\n",
       "    <tr>\n",
       "      <th>13</th>\n",
       "      <td>1078</td>\n",
       "      <td>0.027690</td>\n",
       "    </tr>\n",
       "    <tr>\n",
       "      <th>3</th>\n",
       "      <td>DAY</td>\n",
       "      <td>0.019208</td>\n",
       "    </tr>\n",
       "    <tr>\n",
       "      <th>2</th>\n",
       "      <td>COUPON_MATCH_DISC</td>\n",
       "      <td>0.015641</td>\n",
       "    </tr>\n",
       "    <tr>\n",
       "      <th>15</th>\n",
       "      <td>1487</td>\n",
       "      <td>0.014913</td>\n",
       "    </tr>\n",
       "    <tr>\n",
       "      <th>6</th>\n",
       "      <td>FLUID MILK WHITE ONLY</td>\n",
       "      <td>0.014789</td>\n",
       "    </tr>\n",
       "    <tr>\n",
       "      <th>17</th>\n",
       "      <td>5423</td>\n",
       "      <td>0.001567</td>\n",
       "    </tr>\n",
       "    <tr>\n",
       "      <th>1</th>\n",
       "      <td>COUPON_DISC</td>\n",
       "      <td>0.000086</td>\n",
       "    </tr>\n",
       "    <tr>\n",
       "      <th>9</th>\n",
       "      <td>709</td>\n",
       "      <td>0.000000</td>\n",
       "    </tr>\n",
       "    <tr>\n",
       "      <th>14</th>\n",
       "      <td>1453</td>\n",
       "      <td>-0.000794</td>\n",
       "    </tr>\n",
       "    <tr>\n",
       "      <th>5</th>\n",
       "      <td>Private</td>\n",
       "      <td>-0.004164</td>\n",
       "    </tr>\n",
       "    <tr>\n",
       "      <th>8</th>\n",
       "      <td>531</td>\n",
       "      <td>-0.008384</td>\n",
       "    </tr>\n",
       "    <tr>\n",
       "      <th>10</th>\n",
       "      <td>865</td>\n",
       "      <td>-0.029088</td>\n",
       "    </tr>\n",
       "    <tr>\n",
       "      <th>0</th>\n",
       "      <td>RETAIL_DISC</td>\n",
       "      <td>-0.353358</td>\n",
       "    </tr>\n",
       "  </tbody>\n",
       "</table>\n",
       "</div>"
      ],
      "text/plain": [
       "                 features     coefs\n",
       "4                  VOLUME  0.358467\n",
       "16                   1543  0.091982\n",
       "7      MISCELLANEOUS MILK  0.073165\n",
       "11                    926  0.065984\n",
       "12                    927  0.054736\n",
       "13                   1078  0.027690\n",
       "3                     DAY  0.019208\n",
       "2       COUPON_MATCH_DISC  0.015641\n",
       "15                   1487  0.014913\n",
       "6   FLUID MILK WHITE ONLY  0.014789\n",
       "17                   5423  0.001567\n",
       "1             COUPON_DISC  0.000086\n",
       "9                     709  0.000000\n",
       "14                   1453 -0.000794\n",
       "5                 Private -0.004164\n",
       "8                     531 -0.008384\n",
       "10                    865 -0.029088\n",
       "0             RETAIL_DISC -0.353358"
      ]
     },
     "execution_count": 39,
     "metadata": {},
     "output_type": "execute_result"
    }
   ],
   "source": [
    "features_and_coefs=pd.DataFrame({'features':X.columns, 'coefs':lasso.coef_}).sort_values(by='coefs', ascending=False)\n",
    "features_and_coefs #.features.values"
   ]
  },
  {
   "cell_type": "code",
   "execution_count": 40,
   "metadata": {},
   "outputs": [
    {
     "data": {
      "text/plain": [
       "array([ 0.63391054,  0.0569051 ,  0.04942204,  1.72126429, -0.73565356,\n",
       "        0.21435005,  0.31532811, -0.19847223, -0.06576671, -0.11440719,\n",
       "       -0.04154065, -0.09320996, -0.04154065, -0.02936101,  0.        ,\n",
       "       -0.05089866, -0.09780193, -0.04154065])"
      ]
     },
     "execution_count": 40,
     "metadata": {},
     "output_type": "execute_result"
    }
   ],
   "source": [
    "X_test_scaled[0]"
   ]
  },
  {
   "cell_type": "code",
   "execution_count": 41,
   "metadata": {},
   "outputs": [
    {
     "data": {
      "text/plain": [
       "array([0.48892423, 0.49725852, 0.49222139, 0.5417816 , 0.45591951])"
      ]
     },
     "execution_count": 41,
     "metadata": {},
     "output_type": "execute_result"
    }
   ],
   "source": [
    "cross_val_score(lasso, X_train_scaled,np.log(y_train))"
   ]
  },
  {
   "cell_type": "code",
   "execution_count": 42,
   "metadata": {},
   "outputs": [
    {
     "data": {
      "text/plain": [
       "array([0.48133518, 0.41879741, 0.52471888, 0.46105774, 0.47801642])"
      ]
     },
     "execution_count": 42,
     "metadata": {},
     "output_type": "execute_result"
    }
   ],
   "source": [
    "cross_val_score(lasso, X_test_scaled,np.log(y_test))"
   ]
  },
  {
   "cell_type": "markdown",
   "metadata": {},
   "source": [
    "Next we'll try to estimate using ridge instead of lasso and see hot it performs."
   ]
  },
  {
   "cell_type": "code",
   "execution_count": 43,
   "metadata": {},
   "outputs": [
    {
     "data": {
      "text/plain": [
       "Ridge()"
      ]
     },
     "execution_count": 43,
     "metadata": {},
     "output_type": "execute_result"
    }
   ],
   "source": [
    "ridge=Ridge()\n",
    "ridge.fit(X_train_scaled,np.log(y_train))"
   ]
  },
  {
   "cell_type": "code",
   "execution_count": 44,
   "metadata": {},
   "outputs": [],
   "source": [
    "y_ridge_preds=np.exp(ridge.predict(X_test_scaled))"
   ]
  },
  {
   "cell_type": "code",
   "execution_count": 45,
   "metadata": {},
   "outputs": [
    {
     "data": {
      "text/plain": [
       "array([0.48368774, 0.41889891, 0.52452018, 0.46111541, 0.48377427])"
      ]
     },
     "execution_count": 45,
     "metadata": {},
     "output_type": "execute_result"
    }
   ],
   "source": [
    "cross_val_score(ridge, X_test_scaled,np.log(y_test))"
   ]
  },
  {
   "cell_type": "code",
   "execution_count": 46,
   "metadata": {},
   "outputs": [
    {
     "data": {
      "text/plain": [
       "<matplotlib.collections.PathCollection at 0x7fce514c8160>"
      ]
     },
     "execution_count": 46,
     "metadata": {},
     "output_type": "execute_result"
    },
    {
     "data": {
      "image/png": "[encoded data removed]",
      "text/plain": [
       "<Figure size 432x288 with 1 Axes>"
      ]
     },
     "metadata": {
      "needs_background": "light"
     },
     "output_type": "display_data"
    }
   ],
   "source": [
    "plt.scatter(y_test,y_ridge_preds)"
   ]
  },
  {
   "cell_type": "markdown",
   "metadata": {},
   "source": [
    "Finally we save both models"
   ]
  },
  {
   "cell_type": "code",
   "execution_count": 47,
   "metadata": {},
   "outputs": [
    {
     "data": {
      "text/plain": [
       "['./models/sales_value_lasso_model.joblib']"
      ]
     },
     "execution_count": 47,
     "metadata": {},
     "output_type": "execute_result"
    }
   ],
   "source": [
    "dump(lasso, './models/sales_value_lasso_model.joblib')"
   ]
  },
  {
   "cell_type": "code",
   "execution_count": 48,
   "metadata": {},
   "outputs": [
    {
     "data": {
      "text/plain": [
       "['./models/sales_value_ridge_model.joblib']"
      ]
     },
     "execution_count": 48,
     "metadata": {},
     "output_type": "execute_result"
    }
   ],
   "source": [
    "dump(ridge, './models/sales_value_ridge_model.joblib')"
   ]
  },
  {
   "cell_type": "code",
   "execution_count": null,
   "metadata": {},
   "outputs": [],
   "source": []
  }
 ],
 "metadata": {
  "kernelspec": {
   "display_name": "Python 3",
   "language": "python",
   "name": "python3"
  },
  "language_info": {
   "codemirror_mode": {
    "name": "ipython",
    "version": 3
   },
   "file_extension": ".py",
   "mimetype": "text/x-python",
   "name": "python",
   "nbconvert_exporter": "python",
   "pygments_lexer": "ipython3",
   "version": "3.8.5"
  }
 },
 "nbformat": 4,
 "nbformat_minor": 4
}
